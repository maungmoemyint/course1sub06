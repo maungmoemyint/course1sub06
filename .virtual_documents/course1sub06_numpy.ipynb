import numpy as np


a1 = np.array([1, 2, 3])
a1


# To check the demention of the array - ndim
a1.ndim


# Length of each dimentsion - shape

a1.shape


b1 = np.array([10, 20, 30])
b1


b1.ndim


b1.shape


b2 = np.array([30, 40, 50])
b2


b2.ndim


b2.shape


b3 = np.array([b1, b2])
b3


b3.ndim


b3.shape


b3.size


b3.dtype


# Two dimensional array is created by passing the list of lists as follow.

a2 = np.array([[1, 2, 3], [3, 4, 5]])
a2


a2.ndim # Two dimensional array 


# Two dimensional arrays and the length of inner lists
# Two rows and three columns
# axis 0 is down direction (axis=0)
# axis 1 is cross direction (axis=1)


a2.shape 


a3 = np.array([1, 2, 3.3])
a3


a3.dtype


a3 = np.array([1, 2, 3.3], dtype=int)
a3


a4 = np.array([["f", "l", "a", "k", "e"], ["s", "n", "a", "k", "e"], ["a", "w", "a", "k", "e"]])
a4.shape


# Total elements in the array

a4.size


a4.dtype


a4.ndim





# Creating array with arrange()

np.arange(0, 15) # Lower bound 0 is included but upper bound 15 is excluded.


# Create arrays in step
# Even number arrays

np.arange(0, 15, 2)


# Create arrays in step
# Odd number arrays

np.arange(1, 15, 2)


# Creating sequance of real numbers between start and End Point
# np.linespace()
# We specify the number of points

np.linspace(0, 100, 3) # 3 points within 0 to 100



# Creating without end point

np.linspace(0, 100, 3, endpoint = False)


### Exercise

np.array([[1],[2],[3],[4]]) # 4 rows and 1 column


np.array([[1],[2],[3],[4]]).shape


np.array([[1],[2],[3],[4]]).ndim


np.array([1,3]).shape


np.array([1,3]).ndim


np.array([[1],[3]]).shape


np.array([[1],[3]]).ndim


np.array([[1],[3]]).size


np.array([1,'2',3])


np.array([1,'2',3]).dtype





a = np.arange(0, 12)
a


a.size


a.shape


# Transform it in to 4 rows and 3 columns two dimensional arrays
# reshape()

a.reshape(4, 3)


arr = np.array([1, 2, 3, 4, 5, 6, 7, 8, 9, 10, 11, 12])

newarr = arr.reshape(4, 3)

print(newarr)


newarr.ndim


newarr.shape


# reshapeing array that have 2 arrays that contains 2 arrays with 3 elements 
newarrtest = arr.reshape(2,2,3)
newarrtest 


print(newarrtest[0][1][1]) # First array (array Index i is 0), its rows index j is 1 and its column index k is 1. It is 5


print(newarrtest[1][0][1]) # Second array (array Index i is 1), its rows index j is 0 and its column index k is 1. It is 8


print(newarrtest[1][1][2]) # Second array (array Index i is 1), its rows index j is 1 second row and its column index k is 2, third column. It is 12


#Convert the following 1-D array with 12 elements into a 3-D array.

#The outermost dimension will have 2 arrays that contains 3 arrays, each with 2 elements:

arr = np.array([1, 2, 3, 4, 5, 6, 7, 8, 9, 10, 11, 12])

newarr = arr.reshape(2, 3, 2)

print(newarr)


# Creating a 3x3x3 3-D array using nested lists
array_3d = [
    [
        [1, 2, 3],
        [4, 5, 6],
        [7, 8, 9]
    ],
    [
        [10, 11, 12],
        [13, 14, 15],
        [16, 17, 18]
    ],
    [
        [19, 20, 21],
        [22, 23, 24],
        [25, 26, 27]
    ]
]

# Accessing an element
print(array_3d[0][1][2])  # Output: 6


print(array_3d[2][1][1]) # Output 23





# Two and Three dimensional arrays

array1 = np.array([["000", "001", "002"],
                 ["010", "011", "012"],
                 ["020", "021", "022"]])

array1.ndim



# Three dimensional arrays

array2 = np.array([["100", "101", "102"],
                 ["110", "111", "112"],
                 ["120", "121", "122"]])

array2.ndim


# Two and Three dimensional arrays

array3 = np.array([["200", "121", "202"],
                 ["210", "211", "212"],
                 ["220", "221", "222"]])

array3.ndim


# Tree dimensional arrays
# Actually it is still list

# Creating a 3x3x3 3-D array using nested lists
array_3dtest = [
    [
        ["000", "001", "002"],
        ["010", "011", "012"],
        ["020", "021", "022"]
    ],
    [
        ["100", "101", "102"],
        ["110", "111", "112"],
        ["120", "121", "122"]
    ],
    [
        ["200", "121", "202"],
        ["210", "211", "212"],
        ["220", "221", "222"]
    ]
]






array_3dtest


type(array_3dtest) # check the type


# Accessing an element
print(array_3dtest[0][1][2])  # Output: 012 arrax index is 0 (first array), row index is 1(second row) and column index is 2 (third column), 012


# Accessing an element
print(array_3dtest[0][1][1])  # Output: 012 arrax index is 0 (first array), row index is 1(second row) and column index is 2 (third column), 011


# Making it as the array (2D)

list1Asarr = np.array([["000", "001", "002"],
        ["010", "011", "012"],
        ["020", "021", "022"]])
type(list1Asarr)



list2Asarr = np.array([["100", "101", "102"],
        ["110", "111", "112"],
        ["120", "121", "122"]])
type(list2Asarr)


list3Asarr = np.array([["200", "121", "202"],
        ["210", "211", "212"],
        ["220", "221", "222"]])
type(list3Asarr)


# Making 3D Array feom 2D arrays

array3dAsarr = np.array([list1Asarr, list2Asarr, list3Asarr])
array3dAsarr
#type(array3d)
array3dAsarr.ndim


array3dAsarr


# Accessing an element
print(array3dAsarr[0][1][2])  # Output: 012 arrax index is 0 (first array), row index is 1(second row) and column index is 2 (third column), 012


a = np.arange(0, 12)
a


# We could also obtain for example a three-dimensional array with shape (2,2,3)
# Two arrays that contain two arrays with 3 columns

a.reshape(2,2,3)


b = np.arange(0, 60)
b


b.size


b.ndim


c = b.reshape(3, 4, 5) # (Dimension, Row and Column format)


c.ndim


c.shape


c # It contains 3 arrays. Each array contain 4 arrays with 5 columns.


print(c[1][2][2]) # second array, third row and third column is 32


print(c[2][3][4]) # third array, fourth row and fifth column is 32


d = np.arange(0, 80)


d.shape


e = d.reshape(4, 4, 5)
e


e.ndim #It has 4 arrays. each array contains 4 arrays with 5 columns.


# Print 77

print(e[3][3][2]) # It is in 4th array, fourth row and third column


## Vectorized operationy

## Element wise

A = np.array([[1,1], [0,1]])
A











A.shape


A.ndim


A.size


B = np.array([[2, 0], [3, 4]])


B


# First, let’s use the * operation for numpy arrays:
# Elementwise

A * B


# We can see that this returned the element-wise product. Now, lets use the dot()
# method:

# Matrix multiplication

A.dot(B)





a = np.array([11, 22])
b = np.array([18, 7, 6])
c = np.array([1, 3, 5])

d = np.concatenate((a, b, c))



d


d.ndim


d.shape


d.size


# Concatenating two dimensional arrays

a = np.array([[1, 2], [3, 4]])
b = np.array([[5, 6], [7, 8]])



a


b


np.concatenate((a, b), axis = 0) # by row, Taller table, more rows but same columns number


np.concatenate((a, b), axis = 1) # by column, wider table, same rows but more columns



