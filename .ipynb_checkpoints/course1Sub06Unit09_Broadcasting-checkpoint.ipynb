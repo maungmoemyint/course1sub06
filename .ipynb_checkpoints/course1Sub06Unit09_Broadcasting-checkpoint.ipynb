{
 "cells": [
  {
   "cell_type": "code",
   "execution_count": 1,
   "id": "8f479d92-7fda-462b-b022-15d1fc178080",
   "metadata": {},
   "outputs": [],
   "source": [
    "import numpy as np"
   ]
  },
  {
   "cell_type": "code",
   "execution_count": 2,
   "id": "37ecbb7e-e8ee-465b-9f24-f60cc518cef1",
   "metadata": {},
   "outputs": [
    {
     "data": {
      "text/plain": [
       "array([10, 20, 30])"
      ]
     },
     "execution_count": 2,
     "metadata": {},
     "output_type": "execute_result"
    }
   ],
   "source": [
    "#Broadcasting\n",
    "\n",
    "a = np.array([1, 2, 3])\n",
    "a * 10 "
   ]
  },
  {
   "cell_type": "code",
   "execution_count": 11,
   "id": "60461d4e-ea9b-466b-b733-665cff122aac",
   "metadata": {},
   "outputs": [
    {
     "data": {
      "text/plain": [
       "array([[1],\n",
       "       [2],\n",
       "       [3],\n",
       "       [4]])"
      ]
     },
     "execution_count": 11,
     "metadata": {},
     "output_type": "execute_result"
    }
   ],
   "source": [
    "a = np.array([[1],[2],[3],[4]])\n",
    "a"
   ]
  },
  {
   "cell_type": "code",
   "execution_count": 5,
   "id": "5acbe342-b556-4726-a175-4128766f26b4",
   "metadata": {},
   "outputs": [
    {
     "data": {
      "text/plain": [
       "(4, 1)"
      ]
     },
     "execution_count": 5,
     "metadata": {},
     "output_type": "execute_result"
    }
   ],
   "source": [
    "a.shape"
   ]
  },
  {
   "cell_type": "code",
   "execution_count": 6,
   "id": "ff2d7248-637a-43e6-8bf9-0c28e3f4f7f9",
   "metadata": {},
   "outputs": [
    {
     "data": {
      "text/plain": [
       "2"
      ]
     },
     "execution_count": 6,
     "metadata": {},
     "output_type": "execute_result"
    }
   ],
   "source": [
    "a.ndim"
   ]
  },
  {
   "cell_type": "code",
   "execution_count": 12,
   "id": "155a9e40-dc97-4217-b21b-276a91e9cf6b",
   "metadata": {},
   "outputs": [
    {
     "data": {
      "text/plain": [
       "array([10, 20, 30])"
      ]
     },
     "execution_count": 12,
     "metadata": {},
     "output_type": "execute_result"
    }
   ],
   "source": [
    "b = np.array([10, 20, 30])\n",
    "b"
   ]
  },
  {
   "cell_type": "code",
   "execution_count": 8,
   "id": "48f8b8ff-aef6-4c53-9fa4-c5bcd7ebc2f7",
   "metadata": {},
   "outputs": [
    {
     "data": {
      "text/plain": [
       "(3,)"
      ]
     },
     "execution_count": 8,
     "metadata": {},
     "output_type": "execute_result"
    }
   ],
   "source": [
    "b.shape"
   ]
  },
  {
   "cell_type": "code",
   "execution_count": 9,
   "id": "a460d54e-4210-4542-aa14-0cebf80fb260",
   "metadata": {},
   "outputs": [
    {
     "data": {
      "text/plain": [
       "1"
      ]
     },
     "execution_count": 9,
     "metadata": {},
     "output_type": "execute_result"
    }
   ],
   "source": [
    "b.ndim"
   ]
  },
  {
   "cell_type": "code",
   "execution_count": null,
   "id": "2feb1339-010b-471a-9eff-1769bf8aff68",
   "metadata": {},
   "outputs": [],
   "source": [
    "# Broadcasting as a and b are different dimensions"
   ]
  },
  {
   "cell_type": "code",
   "execution_count": 10,
   "id": "1aab368d-c926-487c-a739-5f7ac3e8a6ea",
   "metadata": {},
   "outputs": [
    {
     "data": {
      "text/plain": [
       "array([[11, 21, 31],\n",
       "       [12, 22, 32],\n",
       "       [13, 23, 33],\n",
       "       [14, 24, 34]])"
      ]
     },
     "execution_count": 10,
     "metadata": {},
     "output_type": "execute_result"
    }
   ],
   "source": [
    "a + b"
   ]
  },
  {
   "cell_type": "code",
   "execution_count": null,
   "id": "ee0f64f3-f326-47a7-bac1-d0d04f1496ac",
   "metadata": {},
   "outputs": [],
   "source": [
    "# Below example could not be broadcast\n",
    "\n",
    "# np.array([[1,2,3],[4,5,6]]) + np.array([[1,2],[8,10],[3,12]])"
   ]
  },
  {
   "cell_type": "code",
   "execution_count": 15,
   "id": "7d6478b2-aecc-49b0-8ca2-eacc2e2a2dba",
   "metadata": {},
   "outputs": [],
   "source": [
    "x = np.array([[1,2,3],[4,5,6]])\n",
    "y = np.array([[1,2],[8,10],[3,12]])"
   ]
  },
  {
   "cell_type": "code",
   "execution_count": 16,
   "id": "068f4206-41e1-4248-885e-b02340f9027e",
   "metadata": {},
   "outputs": [
    {
     "data": {
      "text/plain": [
       "array([[1, 2, 3],\n",
       "       [4, 5, 6]])"
      ]
     },
     "execution_count": 16,
     "metadata": {},
     "output_type": "execute_result"
    }
   ],
   "source": [
    "x"
   ]
  },
  {
   "cell_type": "code",
   "execution_count": 17,
   "id": "f7760028-47e3-40f8-9079-3bcd1075b1f2",
   "metadata": {},
   "outputs": [
    {
     "data": {
      "text/plain": [
       "array([[ 1,  2],\n",
       "       [ 8, 10],\n",
       "       [ 3, 12]])"
      ]
     },
     "execution_count": 17,
     "metadata": {},
     "output_type": "execute_result"
    }
   ],
   "source": [
    "y"
   ]
  },
  {
   "cell_type": "code",
   "execution_count": null,
   "id": "8fdf1d59-b4e8-439c-ac86-78cea6fa4ea7",
   "metadata": {},
   "outputs": [],
   "source": [
    "x + y # Broadcasting does not work "
   ]
  },
  {
   "cell_type": "markdown",
   "id": "9393a11f-5237-440c-a30d-e7f733455f7a",
   "metadata": {},
   "source": [
    "Distance to Origin Exercise"
   ]
  },
  {
   "cell_type": "code",
   "execution_count": 19,
   "id": "352e3342-5908-443f-9aeb-ec18e6297853",
   "metadata": {},
   "outputs": [],
   "source": [
    "dist_to_origin = np.array ([0, 1498, 1063, 1968, 1498, 1758, 1469, 1472, 2230, 2391])"
   ]
  },
  {
   "cell_type": "code",
   "execution_count": 20,
   "id": "e66c224d-58db-46a7-959b-8d1e4887f6a3",
   "metadata": {},
   "outputs": [
    {
     "data": {
      "text/plain": [
       "(10,)"
      ]
     },
     "execution_count": 20,
     "metadata": {},
     "output_type": "execute_result"
    }
   ],
   "source": [
    "dist_to_origin.shape"
   ]
  },
  {
   "cell_type": "code",
   "execution_count": 21,
   "id": "0df1ba9a-ace2-4f2f-9d62-dae69b7b43c5",
   "metadata": {},
   "outputs": [
    {
     "data": {
      "text/plain": [
       "1"
      ]
     },
     "execution_count": 21,
     "metadata": {},
     "output_type": "execute_result"
    }
   ],
   "source": [
    "dist_to_origin.ndim"
   ]
  },
  {
   "cell_type": "code",
   "execution_count": 22,
   "id": "1ccd6618-9d20-458f-bb5f-a344131ba5b1",
   "metadata": {},
   "outputs": [
    {
     "data": {
      "text/plain": [
       "array([[   0],\n",
       "       [1498],\n",
       "       [1063],\n",
       "       [1968],\n",
       "       [1498],\n",
       "       [1758],\n",
       "       [1469],\n",
       "       [1472],\n",
       "       [2230],\n",
       "       [2391]])"
      ]
     },
     "execution_count": 22,
     "metadata": {},
     "output_type": "execute_result"
    }
   ],
   "source": [
    "dist_to_origin_transform = dist_to_origin.reshape(10,1)\n",
    "dist_to_origin_transform"
   ]
  },
  {
   "cell_type": "code",
   "execution_count": 23,
   "id": "2d890a3b-4578-49f9-845d-eba07f6630c6",
   "metadata": {},
   "outputs": [
    {
     "data": {
      "text/plain": [
       "array([[   0, 1498, 1063, 1968, 1498, 1758, 1469, 1472, 2230, 2391],\n",
       "       [1498,    0,  435,  470,    0,  260,   29,   26,  732,  893],\n",
       "       [1063,  435,    0,  905,  435,  695,  406,  409, 1167, 1328],\n",
       "       [1968,  470,  905,    0,  470,  210,  499,  496,  262,  423],\n",
       "       [1498,    0,  435,  470,    0,  260,   29,   26,  732,  893],\n",
       "       [1758,  260,  695,  210,  260,    0,  289,  286,  472,  633],\n",
       "       [1469,   29,  406,  499,   29,  289,    0,    3,  761,  922],\n",
       "       [1472,   26,  409,  496,   26,  286,    3,    0,  758,  919],\n",
       "       [2230,  732, 1167,  262,  732,  472,  761,  758,    0,  161],\n",
       "       [2391,  893, 1328,  423,  893,  633,  922,  919,  161,    0]])"
      ]
     },
     "execution_count": 23,
     "metadata": {},
     "output_type": "execute_result"
    }
   ],
   "source": [
    "# abs is important to remove the negative values\n",
    "\n",
    "distance_matrix = abs( dist_to_origin_transform - dist_to_origin)\n",
    "distance_matrix"
   ]
  },
  {
   "cell_type": "code",
   "execution_count": 24,
   "id": "30801d29-ae44-4a11-a763-1a7f5fcfde09",
   "metadata": {},
   "outputs": [
    {
     "data": {
      "text/plain": [
       "array([[   0, 1498, 1063, 1968, 1498, 1758, 1469, 1472, 2230, 2391],\n",
       "       [1498,    0,  435,  470,    0,  260,   29,   26,  732,  893],\n",
       "       [1063,  435,    0,  905,  435,  695,  406,  409, 1167, 1328],\n",
       "       [1968,  470,  905,    0,  470,  210,  499,  496,  262,  423],\n",
       "       [1498,    0,  435,  470,    0,  260,   29,   26,  732,  893],\n",
       "       [1758,  260,  695,  210,  260,    0,  289,  286,  472,  633],\n",
       "       [1469,   29,  406,  499,   29,  289,    0,    3,  761,  922],\n",
       "       [1472,   26,  409,  496,   26,  286,    3,    0,  758,  919],\n",
       "       [2230,  732, 1167,  262,  732,  472,  761,  758,    0,  161],\n",
       "       [2391,  893, 1328,  423,  893,  633,  922,  919,  161,    0]])"
      ]
     },
     "execution_count": 24,
     "metadata": {},
     "output_type": "execute_result"
    }
   ],
   "source": [
    "#Alternative solution\n",
    "\n",
    "distance_matrix2 = abs( dist_to_origin - dist_to_origin_transform)\n",
    "distance_matrix2"
   ]
  },
  {
   "cell_type": "code",
   "execution_count": null,
   "id": "b620a765-830a-41ee-9114-3a8a637e863e",
   "metadata": {},
   "outputs": [],
   "source": []
  }
 ],
 "metadata": {
  "kernelspec": {
   "display_name": "Python 3 (ipykernel)",
   "language": "python",
   "name": "python3"
  },
  "language_info": {
   "codemirror_mode": {
    "name": "ipython",
    "version": 3
   },
   "file_extension": ".py",
   "mimetype": "text/x-python",
   "name": "python",
   "nbconvert_exporter": "python",
   "pygments_lexer": "ipython3",
   "version": "3.9.7"
  }
 },
 "nbformat": 4,
 "nbformat_minor": 5
}
