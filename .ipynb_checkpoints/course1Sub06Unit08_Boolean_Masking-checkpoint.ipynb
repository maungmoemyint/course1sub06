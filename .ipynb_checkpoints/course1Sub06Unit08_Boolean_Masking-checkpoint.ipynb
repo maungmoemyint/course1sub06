{
 "cells": [
  {
   "cell_type": "markdown",
   "id": "0ab0e51a-ed78-46f6-b5b0-8c4b7046985b",
   "metadata": {},
   "source": [
    "## Boolean Masking"
   ]
  },
  {
   "cell_type": "code",
   "execution_count": 2,
   "id": "0ba01dbf-e1d8-4fef-b7a7-cda6c8b25a35",
   "metadata": {},
   "outputs": [],
   "source": [
    "import numpy as np"
   ]
  },
  {
   "cell_type": "code",
   "execution_count": 4,
   "id": "82621ab9-54e4-4223-9a0b-76a9cec43c6e",
   "metadata": {},
   "outputs": [
    {
     "data": {
      "text/plain": [
       "array([[ 0,  1,  2],\n",
       "       [ 3,  4,  5],\n",
       "       [ 6,  7,  8],\n",
       "       [ 9, 10, 11]])"
      ]
     },
     "execution_count": 4,
     "metadata": {},
     "output_type": "execute_result"
    }
   ],
   "source": [
    "a = np.reshape(np.arange(12), (4,3))\n",
    "a"
   ]
  },
  {
   "cell_type": "code",
   "execution_count": 5,
   "id": "e022ad92-386c-44ac-ab38-1876e6ee6c1f",
   "metadata": {},
   "outputs": [
    {
     "data": {
      "text/plain": [
       "array([[False, False, False],\n",
       "       [False, False, False],\n",
       "       [False, False, False],\n",
       "       [ True,  True,  True]])"
      ]
     },
     "execution_count": 5,
     "metadata": {},
     "output_type": "execute_result"
    }
   ],
   "source": [
    "a > 8"
   ]
  },
  {
   "cell_type": "code",
   "execution_count": 6,
   "id": "09afab7a-9090-4525-b22f-98ae23c8f4cb",
   "metadata": {},
   "outputs": [
    {
     "data": {
      "text/plain": [
       "array([ 9, 10, 11])"
      ]
     },
     "execution_count": 6,
     "metadata": {},
     "output_type": "execute_result"
    }
   ],
   "source": [
    "a[a>8]"
   ]
  },
  {
   "cell_type": "code",
   "execution_count": 7,
   "id": "7fde3236-6fd8-4822-bb20-14bb34dae685",
   "metadata": {},
   "outputs": [],
   "source": [
    "a[a>8]=0"
   ]
  },
  {
   "cell_type": "code",
   "execution_count": 8,
   "id": "05de735c-ac95-47b1-97e9-8fcc632cf7d4",
   "metadata": {},
   "outputs": [
    {
     "data": {
      "text/plain": [
       "array([[0, 1, 2],\n",
       "       [3, 4, 5],\n",
       "       [6, 7, 8],\n",
       "       [0, 0, 0]])"
      ]
     },
     "execution_count": 8,
     "metadata": {},
     "output_type": "execute_result"
    }
   ],
   "source": [
    "a"
   ]
  },
  {
   "cell_type": "code",
   "execution_count": null,
   "id": "5c6e4036-2b4d-426a-abe1-4669e8ed69e5",
   "metadata": {},
   "outputs": [],
   "source": []
  }
 ],
 "metadata": {
  "kernelspec": {
   "display_name": "Python 3 (ipykernel)",
   "language": "python",
   "name": "python3"
  },
  "language_info": {
   "codemirror_mode": {
    "name": "ipython",
    "version": 3
   },
   "file_extension": ".py",
   "mimetype": "text/x-python",
   "name": "python",
   "nbconvert_exporter": "python",
   "pygments_lexer": "ipython3",
   "version": "3.9.7"
  }
 },
 "nbformat": 4,
 "nbformat_minor": 5
}
