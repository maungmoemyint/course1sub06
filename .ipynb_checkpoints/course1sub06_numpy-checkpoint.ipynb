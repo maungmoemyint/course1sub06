{
 "cells": [
  {
   "cell_type": "code",
   "execution_count": 1,
   "id": "bbe66857-2fd2-4b07-ae15-d5e24e2b90c6",
   "metadata": {},
   "outputs": [],
   "source": [
    "import numpy as np"
   ]
  },
  {
   "cell_type": "code",
   "execution_count": 2,
   "id": "2429c130-6157-48f0-bcc0-af85034cf81b",
   "metadata": {},
   "outputs": [
    {
     "data": {
      "text/plain": [
       "array([1, 2, 3])"
      ]
     },
     "execution_count": 2,
     "metadata": {},
     "output_type": "execute_result"
    }
   ],
   "source": [
    "a1 = np.array([1, 2, 3])\n",
    "a1"
   ]
  },
  {
   "cell_type": "code",
   "execution_count": 3,
   "id": "a310cac7-b3ab-4a59-8f4a-3e7145ac0dce",
   "metadata": {},
   "outputs": [
    {
     "data": {
      "text/plain": [
       "1"
      ]
     },
     "execution_count": 3,
     "metadata": {},
     "output_type": "execute_result"
    }
   ],
   "source": [
    "# To check the demention of the array - ndim\n",
    "a1.ndim"
   ]
  },
  {
   "cell_type": "code",
   "execution_count": 5,
   "id": "2456772f-95f3-41c1-b0c0-cc568445738a",
   "metadata": {},
   "outputs": [
    {
     "data": {
      "text/plain": [
       "(3,)"
      ]
     },
     "execution_count": 5,
     "metadata": {},
     "output_type": "execute_result"
    }
   ],
   "source": [
    "# Length of each dimentsion - shape\n",
    "\n",
    "a1.shape"
   ]
  },
  {
   "cell_type": "code",
   "execution_count": 11,
   "id": "2bd94906-791e-496d-a1e0-6202d09e8a75",
   "metadata": {},
   "outputs": [
    {
     "data": {
      "text/plain": [
       "array([10, 20, 30])"
      ]
     },
     "execution_count": 11,
     "metadata": {},
     "output_type": "execute_result"
    }
   ],
   "source": [
    "b1 = np.array([10, 20, 30])\n",
    "b1"
   ]
  },
  {
   "cell_type": "code",
   "execution_count": 8,
   "id": "43ea17e8-ed9e-4b5d-bae5-45a734ca8268",
   "metadata": {},
   "outputs": [
    {
     "data": {
      "text/plain": [
       "1"
      ]
     },
     "execution_count": 8,
     "metadata": {},
     "output_type": "execute_result"
    }
   ],
   "source": [
    "b1.ndim"
   ]
  },
  {
   "cell_type": "code",
   "execution_count": 9,
   "id": "5c9cce5d-5119-473c-87e2-48b0896481ff",
   "metadata": {},
   "outputs": [
    {
     "data": {
      "text/plain": [
       "(3,)"
      ]
     },
     "execution_count": 9,
     "metadata": {},
     "output_type": "execute_result"
    }
   ],
   "source": [
    "b1.shape"
   ]
  },
  {
   "cell_type": "code",
   "execution_count": 12,
   "id": "11225ba3-4184-4c68-810f-1537d7e4f095",
   "metadata": {},
   "outputs": [
    {
     "data": {
      "text/plain": [
       "array([30, 40, 50])"
      ]
     },
     "execution_count": 12,
     "metadata": {},
     "output_type": "execute_result"
    }
   ],
   "source": [
    "b2 = np.array([30, 40, 50])\n",
    "b2"
   ]
  },
  {
   "cell_type": "code",
   "execution_count": 13,
   "id": "6bba981e-1ecf-47f0-922c-3d23a51bb944",
   "metadata": {},
   "outputs": [
    {
     "data": {
      "text/plain": [
       "1"
      ]
     },
     "execution_count": 13,
     "metadata": {},
     "output_type": "execute_result"
    }
   ],
   "source": [
    "b2.ndim"
   ]
  },
  {
   "cell_type": "code",
   "execution_count": 14,
   "id": "488bff6b-e0e1-4153-a5ff-9cfaac4f5c17",
   "metadata": {},
   "outputs": [
    {
     "data": {
      "text/plain": [
       "(3,)"
      ]
     },
     "execution_count": 14,
     "metadata": {},
     "output_type": "execute_result"
    }
   ],
   "source": [
    "b2.shape"
   ]
  },
  {
   "cell_type": "code",
   "execution_count": 16,
   "id": "0f912dc9-26bd-4799-afb8-a7e7c44b93c3",
   "metadata": {},
   "outputs": [
    {
     "data": {
      "text/plain": [
       "array([[10, 20, 30],\n",
       "       [30, 40, 50]])"
      ]
     },
     "execution_count": 16,
     "metadata": {},
     "output_type": "execute_result"
    }
   ],
   "source": [
    "b3 = np.array([b1, b2])\n",
    "b3"
   ]
  },
  {
   "cell_type": "code",
   "execution_count": 17,
   "id": "2fc6d638-e571-471f-9ef6-b7f0925ae9e7",
   "metadata": {},
   "outputs": [
    {
     "data": {
      "text/plain": [
       "2"
      ]
     },
     "execution_count": 17,
     "metadata": {},
     "output_type": "execute_result"
    }
   ],
   "source": [
    "b3.ndim"
   ]
  },
  {
   "cell_type": "code",
   "execution_count": 18,
   "id": "058b3a75-a0dd-43a5-b1b7-16faca84182a",
   "metadata": {},
   "outputs": [
    {
     "data": {
      "text/plain": [
       "(2, 3)"
      ]
     },
     "execution_count": 18,
     "metadata": {},
     "output_type": "execute_result"
    }
   ],
   "source": [
    "b3.shape"
   ]
  },
  {
   "cell_type": "code",
   "execution_count": 22,
   "id": "2014786a-4ca7-47fd-8dc8-17c87159abae",
   "metadata": {},
   "outputs": [
    {
     "data": {
      "text/plain": [
       "6"
      ]
     },
     "execution_count": 22,
     "metadata": {},
     "output_type": "execute_result"
    }
   ],
   "source": [
    "b3.size"
   ]
  },
  {
   "cell_type": "code",
   "execution_count": 23,
   "id": "5e6b86db-c7bb-4188-a130-b24b48b11337",
   "metadata": {},
   "outputs": [
    {
     "data": {
      "text/plain": [
       "dtype('int64')"
      ]
     },
     "execution_count": 23,
     "metadata": {},
     "output_type": "execute_result"
    }
   ],
   "source": [
    "b3.dtype"
   ]
  },
  {
   "cell_type": "code",
   "execution_count": 19,
   "id": "2bd233c3-7b88-4082-bd6e-4c565cf89f45",
   "metadata": {},
   "outputs": [
    {
     "data": {
      "text/plain": [
       "array([[1, 2, 3],\n",
       "       [3, 4, 5]])"
      ]
     },
     "execution_count": 19,
     "metadata": {},
     "output_type": "execute_result"
    }
   ],
   "source": [
    "# Two dimensional array is created by passing the list of lists as follow.\n",
    "\n",
    "a2 = np.array([[1, 2, 3], [3, 4, 5]])\n",
    "a2"
   ]
  },
  {
   "cell_type": "code",
   "execution_count": 20,
   "id": "0242f423-c972-4945-b9cc-def84ad8537c",
   "metadata": {},
   "outputs": [
    {
     "data": {
      "text/plain": [
       "2"
      ]
     },
     "execution_count": 20,
     "metadata": {},
     "output_type": "execute_result"
    }
   ],
   "source": [
    "a2.ndim # Two dimensional array "
   ]
  },
  {
   "cell_type": "code",
   "execution_count": 21,
   "id": "d38fc436-81bc-4c64-9fce-0323918c18db",
   "metadata": {},
   "outputs": [
    {
     "data": {
      "text/plain": [
       "(2, 3)"
      ]
     },
     "execution_count": 21,
     "metadata": {},
     "output_type": "execute_result"
    }
   ],
   "source": [
    "# Two dimensional arrays and the length of inner lists\n",
    "# Two rows and three columns\n",
    "# axis 0 is down direction (axis=0)\n",
    "# axis 1 is cross direction (axis=1)\n",
    "\n",
    "\n",
    "a2.shape "
   ]
  },
  {
   "cell_type": "code",
   "execution_count": 26,
   "id": "d3f6308f-0844-4623-b89b-6233c64c56ac",
   "metadata": {},
   "outputs": [
    {
     "data": {
      "text/plain": [
       "array([1. , 2. , 3.3])"
      ]
     },
     "execution_count": 26,
     "metadata": {},
     "output_type": "execute_result"
    }
   ],
   "source": [
    "a3 = np.array([1, 2, 3.3])\n",
    "a3"
   ]
  },
  {
   "cell_type": "code",
   "execution_count": 27,
   "id": "c08ec7f5-0c20-4e1d-95c9-446890727998",
   "metadata": {},
   "outputs": [
    {
     "data": {
      "text/plain": [
       "dtype('float64')"
      ]
     },
     "execution_count": 27,
     "metadata": {},
     "output_type": "execute_result"
    }
   ],
   "source": [
    "a3.dtype"
   ]
  },
  {
   "cell_type": "code",
   "execution_count": 28,
   "id": "dfb21d97-0bc5-46cb-8483-b02c102485c1",
   "metadata": {},
   "outputs": [
    {
     "data": {
      "text/plain": [
       "array([1, 2, 3])"
      ]
     },
     "execution_count": 28,
     "metadata": {},
     "output_type": "execute_result"
    }
   ],
   "source": [
    "a3 = np.array([1, 2, 3.3], dtype=int)\n",
    "a3"
   ]
  },
  {
   "cell_type": "code",
   "execution_count": 29,
   "id": "0d4ea838-1ced-418b-b434-c6c69f93570c",
   "metadata": {},
   "outputs": [
    {
     "data": {
      "text/plain": [
       "(3, 5)"
      ]
     },
     "execution_count": 29,
     "metadata": {},
     "output_type": "execute_result"
    }
   ],
   "source": [
    "a4 = np.array([[\"f\", \"l\", \"a\", \"k\", \"e\"], [\"s\", \"n\", \"a\", \"k\", \"e\"], [\"a\", \"w\", \"a\", \"k\", \"e\"]])\n",
    "a4.shape"
   ]
  },
  {
   "cell_type": "code",
   "execution_count": 30,
   "id": "d4a3c401-30f2-472c-8a29-1c087c9d1609",
   "metadata": {},
   "outputs": [
    {
     "data": {
      "text/plain": [
       "15"
      ]
     },
     "execution_count": 30,
     "metadata": {},
     "output_type": "execute_result"
    }
   ],
   "source": [
    "# Total elements in the array\n",
    "\n",
    "a4.size"
   ]
  },
  {
   "cell_type": "code",
   "execution_count": 31,
   "id": "c0bcb6f3-65b1-4010-8f12-a7f0375852ac",
   "metadata": {},
   "outputs": [
    {
     "data": {
      "text/plain": [
       "dtype('<U1')"
      ]
     },
     "execution_count": 31,
     "metadata": {},
     "output_type": "execute_result"
    }
   ],
   "source": [
    "a4.dtype"
   ]
  },
  {
   "cell_type": "code",
   "execution_count": 32,
   "id": "7bd05c1b-c292-42b5-a73c-050e6d3c9a95",
   "metadata": {},
   "outputs": [
    {
     "data": {
      "text/plain": [
       "2"
      ]
     },
     "execution_count": 32,
     "metadata": {},
     "output_type": "execute_result"
    }
   ],
   "source": [
    "a4.ndim"
   ]
  },
  {
   "cell_type": "code",
   "execution_count": null,
   "id": "024cbbe5-6c63-4b2a-a42f-266d2dcda2ed",
   "metadata": {},
   "outputs": [],
   "source": []
  },
  {
   "cell_type": "code",
   "execution_count": 33,
   "id": "3028d34a-b062-476f-8db2-5b7b8e070e81",
   "metadata": {},
   "outputs": [
    {
     "data": {
      "text/plain": [
       "array([ 0,  1,  2,  3,  4,  5,  6,  7,  8,  9, 10, 11, 12, 13, 14])"
      ]
     },
     "execution_count": 33,
     "metadata": {},
     "output_type": "execute_result"
    }
   ],
   "source": [
    "# Creating array with arrange()\n",
    "\n",
    "np.arange(0, 15) # Lower bound 0 is included but upper bound 15 is excluded."
   ]
  },
  {
   "cell_type": "code",
   "execution_count": 34,
   "id": "8644ea2a-3ff3-43c8-8891-31400f693aef",
   "metadata": {},
   "outputs": [
    {
     "data": {
      "text/plain": [
       "array([ 0,  2,  4,  6,  8, 10, 12, 14])"
      ]
     },
     "execution_count": 34,
     "metadata": {},
     "output_type": "execute_result"
    }
   ],
   "source": [
    "# Create arrays in step\n",
    "# Even number arrays\n",
    "\n",
    "np.arange(0, 15, 2)"
   ]
  },
  {
   "cell_type": "code",
   "execution_count": 35,
   "id": "aa9e3482-2d06-4664-8312-9b367b98b551",
   "metadata": {},
   "outputs": [
    {
     "data": {
      "text/plain": [
       "array([ 1,  3,  5,  7,  9, 11, 13])"
      ]
     },
     "execution_count": 35,
     "metadata": {},
     "output_type": "execute_result"
    }
   ],
   "source": [
    "# Create arrays in step\n",
    "# Odd number arrays\n",
    "\n",
    "np.arange(1, 15, 2)"
   ]
  },
  {
   "cell_type": "code",
   "execution_count": 36,
   "id": "b969df6f-a404-4c96-bb2f-c101dce89695",
   "metadata": {},
   "outputs": [
    {
     "data": {
      "text/plain": [
       "array([  0.,  50., 100.])"
      ]
     },
     "execution_count": 36,
     "metadata": {},
     "output_type": "execute_result"
    }
   ],
   "source": [
    "# Creating sequance of real numbers between start and End Point\n",
    "# np.linespace()\n",
    "# We specify the number of points\n",
    "\n",
    "np.linspace(0, 100, 3) # 3 points within 0 to 100\n"
   ]
  },
  {
   "cell_type": "code",
   "execution_count": 37,
   "id": "15aee0eb-95dd-4671-902c-a58f26cd4d47",
   "metadata": {},
   "outputs": [
    {
     "data": {
      "text/plain": [
       "array([ 0.        , 33.33333333, 66.66666667])"
      ]
     },
     "execution_count": 37,
     "metadata": {},
     "output_type": "execute_result"
    }
   ],
   "source": [
    "# Creating without end point\n",
    "\n",
    "np.linspace(0, 100, 3, endpoint = False)"
   ]
  },
  {
   "cell_type": "code",
   "execution_count": 38,
   "id": "47066a1b-3847-4827-9090-4ac60f437b85",
   "metadata": {},
   "outputs": [
    {
     "data": {
      "text/plain": [
       "array([[1],\n",
       "       [2],\n",
       "       [3],\n",
       "       [4]])"
      ]
     },
     "execution_count": 38,
     "metadata": {},
     "output_type": "execute_result"
    }
   ],
   "source": [
    "### Exercise\n",
    "\n",
    "np.array([[1],[2],[3],[4]]) # 4 rows and 1 column"
   ]
  },
  {
   "cell_type": "code",
   "execution_count": 39,
   "id": "b8a46832-c6b9-4dd3-be61-299b6ef00750",
   "metadata": {},
   "outputs": [
    {
     "data": {
      "text/plain": [
       "(4, 1)"
      ]
     },
     "execution_count": 39,
     "metadata": {},
     "output_type": "execute_result"
    }
   ],
   "source": [
    "np.array([[1],[2],[3],[4]]).shape"
   ]
  },
  {
   "cell_type": "code",
   "execution_count": 40,
   "id": "2a0259a1-55ff-4bf7-9a7e-642b2773a16f",
   "metadata": {},
   "outputs": [
    {
     "data": {
      "text/plain": [
       "2"
      ]
     },
     "execution_count": 40,
     "metadata": {},
     "output_type": "execute_result"
    }
   ],
   "source": [
    "np.array([[1],[2],[3],[4]]).ndim"
   ]
  },
  {
   "cell_type": "code",
   "execution_count": 41,
   "id": "932e519a-f1d1-47de-98c9-6275c16de2c8",
   "metadata": {},
   "outputs": [
    {
     "data": {
      "text/plain": [
       "(2,)"
      ]
     },
     "execution_count": 41,
     "metadata": {},
     "output_type": "execute_result"
    }
   ],
   "source": [
    "np.array([1,3]).shape"
   ]
  },
  {
   "cell_type": "code",
   "execution_count": 42,
   "id": "f5714e07-8ff2-4a1b-a33f-1b890b3bff7a",
   "metadata": {},
   "outputs": [
    {
     "data": {
      "text/plain": [
       "1"
      ]
     },
     "execution_count": 42,
     "metadata": {},
     "output_type": "execute_result"
    }
   ],
   "source": [
    "np.array([1,3]).ndim"
   ]
  },
  {
   "cell_type": "code",
   "execution_count": 43,
   "id": "01e82f94-376d-4a39-ab8d-621de0c9b0e8",
   "metadata": {},
   "outputs": [
    {
     "data": {
      "text/plain": [
       "(2, 1)"
      ]
     },
     "execution_count": 43,
     "metadata": {},
     "output_type": "execute_result"
    }
   ],
   "source": [
    "np.array([[1],[3]]).shape"
   ]
  },
  {
   "cell_type": "code",
   "execution_count": 44,
   "id": "0e59e2a9-431c-4d7f-83c5-4c91045fa70a",
   "metadata": {},
   "outputs": [
    {
     "data": {
      "text/plain": [
       "2"
      ]
     },
     "execution_count": 44,
     "metadata": {},
     "output_type": "execute_result"
    }
   ],
   "source": [
    "np.array([[1],[3]]).ndim"
   ]
  },
  {
   "cell_type": "code",
   "execution_count": 45,
   "id": "3d11a5cf-192e-4f30-8d87-a28df81bb814",
   "metadata": {},
   "outputs": [
    {
     "data": {
      "text/plain": [
       "2"
      ]
     },
     "execution_count": 45,
     "metadata": {},
     "output_type": "execute_result"
    }
   ],
   "source": [
    "np.array([[1],[3]]).size"
   ]
  },
  {
   "cell_type": "code",
   "execution_count": 46,
   "id": "19679ae2-cd5f-4465-a270-68f7033212a8",
   "metadata": {},
   "outputs": [
    {
     "data": {
      "text/plain": [
       "array(['1', '2', '3'], dtype='<U21')"
      ]
     },
     "execution_count": 46,
     "metadata": {},
     "output_type": "execute_result"
    }
   ],
   "source": [
    "np.array([1,'2',3])"
   ]
  },
  {
   "cell_type": "code",
   "execution_count": 47,
   "id": "88f24495-20f7-4461-9c1a-9634d1f37423",
   "metadata": {},
   "outputs": [
    {
     "data": {
      "text/plain": [
       "dtype('<U21')"
      ]
     },
     "execution_count": 47,
     "metadata": {},
     "output_type": "execute_result"
    }
   ],
   "source": [
    "np.array([1,'2',3]).dtype"
   ]
  },
  {
   "cell_type": "markdown",
   "id": "b6d1667a-9038-43aa-8c59-a3ebed7962cb",
   "metadata": {},
   "source": [
    "## Basic Operations with Arrays\n",
    "\n",
    "We saw how with the arange() function, we can create an array and specify the range of\n",
    "numbers that it will contain. Used by itself, this function creates a one-dimensional\n",
    "array. However, in combination with the reshape() function, we can create an array of\n",
    "any shape we want.\n",
    "\n",
    "New array is created. Original arrays are not modified."
   ]
  },
  {
   "cell_type": "code",
   "execution_count": 68,
   "id": "8d870452-3453-43ed-921f-a58131936224",
   "metadata": {},
   "outputs": [
    {
     "data": {
      "text/plain": [
       "array([ 0,  1,  2,  3,  4,  5,  6,  7,  8,  9, 10, 11])"
      ]
     },
     "execution_count": 68,
     "metadata": {},
     "output_type": "execute_result"
    }
   ],
   "source": [
    "a = np.arange(0, 12)\n",
    "a"
   ]
  },
  {
   "cell_type": "code",
   "execution_count": 69,
   "id": "084d5bdd-4791-4c77-86fc-d60d8d10ce34",
   "metadata": {},
   "outputs": [
    {
     "data": {
      "text/plain": [
       "12"
      ]
     },
     "execution_count": 69,
     "metadata": {},
     "output_type": "execute_result"
    }
   ],
   "source": [
    "a.size"
   ]
  },
  {
   "cell_type": "code",
   "execution_count": 70,
   "id": "fbd6a4a0-dd9a-4908-a34b-bbe678650b95",
   "metadata": {},
   "outputs": [
    {
     "data": {
      "text/plain": [
       "(12,)"
      ]
     },
     "execution_count": 70,
     "metadata": {},
     "output_type": "execute_result"
    }
   ],
   "source": [
    "a.shape"
   ]
  },
  {
   "cell_type": "code",
   "execution_count": 72,
   "id": "6d3df88a-ac5c-441b-abf7-468b21649456",
   "metadata": {},
   "outputs": [
    {
     "data": {
      "text/plain": [
       "array([[ 0,  1,  2],\n",
       "       [ 3,  4,  5],\n",
       "       [ 6,  7,  8],\n",
       "       [ 9, 10, 11]])"
      ]
     },
     "execution_count": 72,
     "metadata": {},
     "output_type": "execute_result"
    }
   ],
   "source": [
    "# Transform it in to 4 rows and 3 columns two dimensional arrays\n",
    "# reshape()\n",
    "\n",
    "a.reshape(4, 3)"
   ]
  },
  {
   "cell_type": "code",
   "execution_count": 73,
   "id": "d14a87a5-197c-4a09-a113-d7cc6a307018",
   "metadata": {},
   "outputs": [
    {
     "name": "stdout",
     "output_type": "stream",
     "text": [
      "[[ 1  2  3]\n",
      " [ 4  5  6]\n",
      " [ 7  8  9]\n",
      " [10 11 12]]\n"
     ]
    }
   ],
   "source": [
    "arr = np.array([1, 2, 3, 4, 5, 6, 7, 8, 9, 10, 11, 12])\n",
    "\n",
    "newarr = arr.reshape(4, 3)\n",
    "\n",
    "print(newarr)"
   ]
  },
  {
   "cell_type": "code",
   "execution_count": 74,
   "id": "37edaf0b-5836-4d00-8fe1-8859def6cbb7",
   "metadata": {},
   "outputs": [
    {
     "data": {
      "text/plain": [
       "2"
      ]
     },
     "execution_count": 74,
     "metadata": {},
     "output_type": "execute_result"
    }
   ],
   "source": [
    "newarr.ndim"
   ]
  },
  {
   "cell_type": "code",
   "execution_count": 75,
   "id": "8803c064-a4fa-4ea7-bdf2-5d85b5b4b1ae",
   "metadata": {},
   "outputs": [
    {
     "data": {
      "text/plain": [
       "(4, 3)"
      ]
     },
     "execution_count": 75,
     "metadata": {},
     "output_type": "execute_result"
    }
   ],
   "source": [
    "newarr.shape"
   ]
  },
  {
   "cell_type": "code",
   "execution_count": 82,
   "id": "737d256c-5e65-43c2-8ef5-00bba6a8362c",
   "metadata": {},
   "outputs": [
    {
     "data": {
      "text/plain": [
       "array([[[ 1,  2,  3],\n",
       "        [ 4,  5,  6]],\n",
       "\n",
       "       [[ 7,  8,  9],\n",
       "        [10, 11, 12]]])"
      ]
     },
     "execution_count": 82,
     "metadata": {},
     "output_type": "execute_result"
    }
   ],
   "source": [
    "# reshapeing array that have 2 arrays that contains 2 arrays with 3 elements \n",
    "newarrtest = arr.reshape(2,2,3)\n",
    "newarrtest "
   ]
  },
  {
   "cell_type": "code",
   "execution_count": 85,
   "id": "16d7baec-519a-45ed-b62e-c23c796042c7",
   "metadata": {},
   "outputs": [
    {
     "name": "stdout",
     "output_type": "stream",
     "text": [
      "5\n"
     ]
    }
   ],
   "source": [
    "print(newarrtest[0][1][1]) # First array (array Index i is 0), its rows index j is 1 and its column index k is 1. It is 5"
   ]
  },
  {
   "cell_type": "code",
   "execution_count": 86,
   "id": "0b995e0f-3ba8-44a9-b12e-4e1410b6a1d3",
   "metadata": {},
   "outputs": [
    {
     "name": "stdout",
     "output_type": "stream",
     "text": [
      "8\n"
     ]
    }
   ],
   "source": [
    "print(newarrtest[1][0][1]) # Second array (array Index i is 1), its rows index j is 0 and its column index k is 1. It is 8"
   ]
  },
  {
   "cell_type": "code",
   "execution_count": 88,
   "id": "a94c846b-8f70-483c-9715-746e9adda8c2",
   "metadata": {},
   "outputs": [
    {
     "name": "stdout",
     "output_type": "stream",
     "text": [
      "12\n"
     ]
    }
   ],
   "source": [
    "print(newarrtest[1][1][2]) # Second array (array Index i is 1), its rows index j is 1 second row and its column index k is 2, third column. It is 12"
   ]
  },
  {
   "cell_type": "code",
   "execution_count": 76,
   "id": "e8eca8b1-12f4-408a-bea6-57ea2db52274",
   "metadata": {},
   "outputs": [
    {
     "name": "stdout",
     "output_type": "stream",
     "text": [
      "[[[ 1  2]\n",
      "  [ 3  4]\n",
      "  [ 5  6]]\n",
      "\n",
      " [[ 7  8]\n",
      "  [ 9 10]\n",
      "  [11 12]]]\n"
     ]
    }
   ],
   "source": [
    "#Convert the following 1-D array with 12 elements into a 3-D array.\n",
    "\n",
    "#The outermost dimension will have 2 arrays that contains 3 arrays, each with 2 elements:\n",
    "\n",
    "arr = np.array([1, 2, 3, 4, 5, 6, 7, 8, 9, 10, 11, 12])\n",
    "\n",
    "newarr = arr.reshape(2, 3, 2)\n",
    "\n",
    "print(newarr)"
   ]
  },
  {
   "cell_type": "code",
   "execution_count": 77,
   "id": "735dfdcb-999d-4a6b-977d-43a5bf2fb840",
   "metadata": {},
   "outputs": [
    {
     "name": "stdout",
     "output_type": "stream",
     "text": [
      "6\n"
     ]
    }
   ],
   "source": [
    "# Creating a 3x3x3 3-D array using nested lists\n",
    "array_3d = [\n",
    "    [\n",
    "        [1, 2, 3],\n",
    "        [4, 5, 6],\n",
    "        [7, 8, 9]\n",
    "    ],\n",
    "    [\n",
    "        [10, 11, 12],\n",
    "        [13, 14, 15],\n",
    "        [16, 17, 18]\n",
    "    ],\n",
    "    [\n",
    "        [19, 20, 21],\n",
    "        [22, 23, 24],\n",
    "        [25, 26, 27]\n",
    "    ]\n",
    "]\n",
    "\n",
    "# Accessing an element\n",
    "print(array_3d[0][1][2])  # Output: 6"
   ]
  },
  {
   "cell_type": "code",
   "execution_count": 81,
   "id": "726b2d4f-77a6-4fc6-aa26-f69d0922f733",
   "metadata": {},
   "outputs": [
    {
     "name": "stdout",
     "output_type": "stream",
     "text": [
      "23\n"
     ]
    }
   ],
   "source": [
    "print(array_3d[2][1][1]) # Output 23"
   ]
  },
  {
   "cell_type": "code",
   "execution_count": null,
   "id": "561074c5-190d-4b76-a407-1a7d37f6cd03",
   "metadata": {},
   "outputs": [],
   "source": []
  },
  {
   "cell_type": "code",
   "execution_count": 95,
   "id": "5bf07a2a-015b-4ce1-a4f3-70adca78ab39",
   "metadata": {},
   "outputs": [
    {
     "data": {
      "text/plain": [
       "array([['000', '001', '002'],\n",
       "       ['010', '011', '012'],\n",
       "       ['020', '021', '022']], dtype='<U3')"
      ]
     },
     "execution_count": 95,
     "metadata": {},
     "output_type": "execute_result"
    }
   ],
   "source": [
    "# Two and Three dimensional arrays\n",
    "\n",
    "array1 = np.array([[\"000\", \"001\", \"002\"],\n",
    "                 [\"010\", \"011\", \"012\"],\n",
    "                 [\"020\", \"021\", \"022\"]])\n",
    "\n",
    "array1.ndim\n"
   ]
  },
  {
   "cell_type": "code",
   "execution_count": 90,
   "id": "3158a397-bf39-4295-a95d-1037c2fb2679",
   "metadata": {},
   "outputs": [
    {
     "data": {
      "text/plain": [
       "2"
      ]
     },
     "execution_count": 90,
     "metadata": {},
     "output_type": "execute_result"
    }
   ],
   "source": [
    "# Three dimensional arrays\n",
    "\n",
    "array2 = np.array([[\"100\", \"101\", \"102\"],\n",
    "                 [\"110\", \"111\", \"112\"],\n",
    "                 [\"120\", \"121\", \"122\"]])\n",
    "\n",
    "array2.ndim"
   ]
  },
  {
   "cell_type": "code",
   "execution_count": 91,
   "id": "2e5ad95c-b0fd-498f-9e3a-460ab9fe603a",
   "metadata": {},
   "outputs": [
    {
     "data": {
      "text/plain": [
       "2"
      ]
     },
     "execution_count": 91,
     "metadata": {},
     "output_type": "execute_result"
    }
   ],
   "source": [
    "# Two and Three dimensional arrays\n",
    "\n",
    "array3 = np.array([[\"200\", \"121\", \"202\"],\n",
    "                 [\"210\", \"211\", \"212\"],\n",
    "                 [\"220\", \"221\", \"222\"]])\n",
    "\n",
    "array3.ndim"
   ]
  },
  {
   "cell_type": "code",
   "execution_count": 93,
   "id": "794d4255-ca02-45a5-977e-d4ecd28e9714",
   "metadata": {},
   "outputs": [
    {
     "name": "stdout",
     "output_type": "stream",
     "text": [
      "012\n"
     ]
    }
   ],
   "source": [
    "# Tree dimensional arrays\n",
    "# Actually it is still list\n",
    "\n",
    "# Creating a 3x3x3 3-D array using nested lists\n",
    "array_3dtest = [\n",
    "    [\n",
    "        [\"000\", \"001\", \"002\"],\n",
    "        [\"010\", \"011\", \"012\"],\n",
    "        [\"020\", \"021\", \"022\"]\n",
    "    ],\n",
    "    [\n",
    "        [\"100\", \"101\", \"102\"],\n",
    "        [\"110\", \"111\", \"112\"],\n",
    "        [\"120\", \"121\", \"122\"]\n",
    "    ],\n",
    "    [\n",
    "        [\"200\", \"121\", \"202\"],\n",
    "        [\"210\", \"211\", \"212\"],\n",
    "        [\"220\", \"221\", \"222\"]\n",
    "    ]\n",
    "]\n",
    "\n",
    "\n",
    "\n"
   ]
  },
  {
   "cell_type": "code",
   "execution_count": 131,
   "id": "6dac71e7-1dac-4ed3-998e-c908b661ecde",
   "metadata": {},
   "outputs": [
    {
     "data": {
      "text/plain": [
       "[[['000', '001', '002'], ['010', '011', '012'], ['020', '021', '022']],\n",
       " [['100', '101', '102'], ['110', '111', '112'], ['120', '121', '122']],\n",
       " [['200', '121', '202'], ['210', '211', '212'], ['220', '221', '222']]]"
      ]
     },
     "execution_count": 131,
     "metadata": {},
     "output_type": "execute_result"
    }
   ],
   "source": [
    "array_3dtest"
   ]
  },
  {
   "cell_type": "code",
   "execution_count": 132,
   "id": "23b4d870-9226-473a-acf0-04f113bf62de",
   "metadata": {},
   "outputs": [
    {
     "data": {
      "text/plain": [
       "list"
      ]
     },
     "execution_count": 132,
     "metadata": {},
     "output_type": "execute_result"
    }
   ],
   "source": [
    "type(array_3dtest) # check the type"
   ]
  },
  {
   "cell_type": "code",
   "execution_count": 133,
   "id": "9c227cbe-4134-4d4d-80f1-adcb8610bbdd",
   "metadata": {},
   "outputs": [
    {
     "name": "stdout",
     "output_type": "stream",
     "text": [
      "012\n"
     ]
    }
   ],
   "source": [
    "# Accessing an element\n",
    "print(array_3dtest[0][1][2])  # Output: 012 arrax index is 0 (first array), row index is 1(second row) and column index is 2 (third column), 012"
   ]
  },
  {
   "cell_type": "code",
   "execution_count": 94,
   "id": "3ee9d26a-e2be-4f76-b4b3-0f0fccd8fcb7",
   "metadata": {},
   "outputs": [
    {
     "name": "stdout",
     "output_type": "stream",
     "text": [
      "011\n"
     ]
    }
   ],
   "source": [
    "# Accessing an element\n",
    "print(array_3dtest[0][1][1])  # Output: 012 arrax index is 0 (first array), row index is 1(second row) and column index is 2 (third column), 011"
   ]
  },
  {
   "cell_type": "code",
   "execution_count": 119,
   "id": "8a466c66-446c-43b0-92c5-96e25f41b36b",
   "metadata": {},
   "outputs": [
    {
     "data": {
      "text/plain": [
       "numpy.ndarray"
      ]
     },
     "execution_count": 119,
     "metadata": {},
     "output_type": "execute_result"
    }
   ],
   "source": [
    "# Making it as the array (2D)\n",
    "\n",
    "list1Asarr = np.array([[\"000\", \"001\", \"002\"],\n",
    "        [\"010\", \"011\", \"012\"],\n",
    "        [\"020\", \"021\", \"022\"]])\n",
    "type(list1Asarr)\n"
   ]
  },
  {
   "cell_type": "code",
   "execution_count": 120,
   "id": "b3f18d62-0844-49dd-9730-c0a09e332a65",
   "metadata": {},
   "outputs": [
    {
     "data": {
      "text/plain": [
       "numpy.ndarray"
      ]
     },
     "execution_count": 120,
     "metadata": {},
     "output_type": "execute_result"
    }
   ],
   "source": [
    "list2Asarr = np.array([[\"100\", \"101\", \"102\"],\n",
    "        [\"110\", \"111\", \"112\"],\n",
    "        [\"120\", \"121\", \"122\"]])\n",
    "type(list2Asarr)"
   ]
  },
  {
   "cell_type": "code",
   "execution_count": 121,
   "id": "155fe95c-1104-4b71-87c7-fd8379002a77",
   "metadata": {},
   "outputs": [
    {
     "data": {
      "text/plain": [
       "numpy.ndarray"
      ]
     },
     "execution_count": 121,
     "metadata": {},
     "output_type": "execute_result"
    }
   ],
   "source": [
    "list3Asarr = np.array([[\"200\", \"121\", \"202\"],\n",
    "        [\"210\", \"211\", \"212\"],\n",
    "        [\"220\", \"221\", \"222\"]])\n",
    "type(list3Asarr)"
   ]
  },
  {
   "cell_type": "code",
   "execution_count": 128,
   "id": "5e140259-c30b-4bd0-aef0-97a8477ad57e",
   "metadata": {},
   "outputs": [
    {
     "data": {
      "text/plain": [
       "3"
      ]
     },
     "execution_count": 128,
     "metadata": {},
     "output_type": "execute_result"
    }
   ],
   "source": [
    "# Making 3D Array feom 2D arrays\n",
    "\n",
    "array3dAsarr = np.array([list1Asarr, list2Asarr, list3Asarr])\n",
    "array3dAsarr\n",
    "#type(array3d)\n",
    "array3dAsarr.ndim"
   ]
  },
  {
   "cell_type": "code",
   "execution_count": 129,
   "id": "1fad7a79-369e-4968-8e14-8da8e23e3f63",
   "metadata": {},
   "outputs": [
    {
     "data": {
      "text/plain": [
       "array([[['000', '001', '002'],\n",
       "        ['010', '011', '012'],\n",
       "        ['020', '021', '022']],\n",
       "\n",
       "       [['100', '101', '102'],\n",
       "        ['110', '111', '112'],\n",
       "        ['120', '121', '122']],\n",
       "\n",
       "       [['200', '121', '202'],\n",
       "        ['210', '211', '212'],\n",
       "        ['220', '221', '222']]], dtype='<U3')"
      ]
     },
     "execution_count": 129,
     "metadata": {},
     "output_type": "execute_result"
    }
   ],
   "source": [
    "array3dAsarr"
   ]
  },
  {
   "cell_type": "code",
   "execution_count": 130,
   "id": "5dd5265d-a7bc-4c33-86f3-6d48140c9041",
   "metadata": {},
   "outputs": [
    {
     "name": "stdout",
     "output_type": "stream",
     "text": [
      "012\n"
     ]
    }
   ],
   "source": [
    "# Accessing an element\n",
    "print(array3dAsarr[0][1][2])  # Output: 012 arrax index is 0 (first array), row index is 1(second row) and column index is 2 (third column), 012"
   ]
  },
  {
   "cell_type": "code",
   "execution_count": 134,
   "id": "46f5e631-f94e-4957-b57d-428c79685e43",
   "metadata": {},
   "outputs": [
    {
     "data": {
      "text/plain": [
       "array([ 0,  1,  2,  3,  4,  5,  6,  7,  8,  9, 10, 11])"
      ]
     },
     "execution_count": 134,
     "metadata": {},
     "output_type": "execute_result"
    }
   ],
   "source": [
    "a = np.arange(0, 12)\n",
    "a"
   ]
  },
  {
   "cell_type": "code",
   "execution_count": 136,
   "id": "8a51acb2-cce0-4d89-9cb5-4ff739581c58",
   "metadata": {},
   "outputs": [
    {
     "data": {
      "text/plain": [
       "array([[[ 0,  1,  2],\n",
       "        [ 3,  4,  5]],\n",
       "\n",
       "       [[ 6,  7,  8],\n",
       "        [ 9, 10, 11]]])"
      ]
     },
     "execution_count": 136,
     "metadata": {},
     "output_type": "execute_result"
    }
   ],
   "source": [
    "# We could also obtain for example a three-dimensional array with shape (2,2,3)\n",
    "# Two arrays that contain two arrays with 3 columns\n",
    "\n",
    "a.reshape(2,2,3)"
   ]
  },
  {
   "cell_type": "code",
   "execution_count": 137,
   "id": "ff9007f3-384b-43e3-9cf2-4b453dd1108d",
   "metadata": {},
   "outputs": [
    {
     "data": {
      "text/plain": [
       "array([ 0,  1,  2,  3,  4,  5,  6,  7,  8,  9, 10, 11, 12, 13, 14, 15, 16,\n",
       "       17, 18, 19, 20, 21, 22, 23, 24, 25, 26, 27, 28, 29, 30, 31, 32, 33,\n",
       "       34, 35, 36, 37, 38, 39, 40, 41, 42, 43, 44, 45, 46, 47, 48, 49, 50,\n",
       "       51, 52, 53, 54, 55, 56, 57, 58, 59])"
      ]
     },
     "execution_count": 137,
     "metadata": {},
     "output_type": "execute_result"
    }
   ],
   "source": [
    "b = np.arange(0, 60)\n",
    "b"
   ]
  },
  {
   "cell_type": "code",
   "execution_count": 138,
   "id": "0bc197a1-83e9-40f9-8f7c-4faefe7ccd47",
   "metadata": {},
   "outputs": [
    {
     "data": {
      "text/plain": [
       "60"
      ]
     },
     "execution_count": 138,
     "metadata": {},
     "output_type": "execute_result"
    }
   ],
   "source": [
    "b.size"
   ]
  },
  {
   "cell_type": "code",
   "execution_count": 139,
   "id": "d20bdf2e-8d99-4166-9219-d50ece1b933a",
   "metadata": {},
   "outputs": [
    {
     "data": {
      "text/plain": [
       "1"
      ]
     },
     "execution_count": 139,
     "metadata": {},
     "output_type": "execute_result"
    }
   ],
   "source": [
    "b.ndim"
   ]
  },
  {
   "cell_type": "code",
   "execution_count": 140,
   "id": "0f44d3e3-f2f6-4e2f-8dc3-2f65e11a284d",
   "metadata": {},
   "outputs": [],
   "source": [
    "c = b.reshape(3, 4, 5) # (Dimension, Row and Column format)"
   ]
  },
  {
   "cell_type": "code",
   "execution_count": 141,
   "id": "f44b1cc7-fbc0-49bd-ae5a-c70ad08f1b02",
   "metadata": {},
   "outputs": [
    {
     "data": {
      "text/plain": [
       "3"
      ]
     },
     "execution_count": 141,
     "metadata": {},
     "output_type": "execute_result"
    }
   ],
   "source": [
    "c.ndim"
   ]
  },
  {
   "cell_type": "code",
   "execution_count": 142,
   "id": "b8fa587e-2f01-45a7-a491-142b8767b14e",
   "metadata": {},
   "outputs": [
    {
     "data": {
      "text/plain": [
       "(3, 4, 5)"
      ]
     },
     "execution_count": 142,
     "metadata": {},
     "output_type": "execute_result"
    }
   ],
   "source": [
    "c.shape"
   ]
  },
  {
   "cell_type": "code",
   "execution_count": 143,
   "id": "98d97988-fd4b-4e2a-8e5e-cc0659400019",
   "metadata": {},
   "outputs": [
    {
     "data": {
      "text/plain": [
       "array([[[ 0,  1,  2,  3,  4],\n",
       "        [ 5,  6,  7,  8,  9],\n",
       "        [10, 11, 12, 13, 14],\n",
       "        [15, 16, 17, 18, 19]],\n",
       "\n",
       "       [[20, 21, 22, 23, 24],\n",
       "        [25, 26, 27, 28, 29],\n",
       "        [30, 31, 32, 33, 34],\n",
       "        [35, 36, 37, 38, 39]],\n",
       "\n",
       "       [[40, 41, 42, 43, 44],\n",
       "        [45, 46, 47, 48, 49],\n",
       "        [50, 51, 52, 53, 54],\n",
       "        [55, 56, 57, 58, 59]]])"
      ]
     },
     "execution_count": 143,
     "metadata": {},
     "output_type": "execute_result"
    }
   ],
   "source": [
    "c # It contains 3 arrays. Each array contain 4 arrays with 5 columns."
   ]
  },
  {
   "cell_type": "code",
   "execution_count": 144,
   "id": "432d23ab-ff05-44db-96c0-114a5d206e90",
   "metadata": {},
   "outputs": [
    {
     "name": "stdout",
     "output_type": "stream",
     "text": [
      "32\n"
     ]
    }
   ],
   "source": [
    "print(c[1][2][2]) # second array, third row and third column is 32"
   ]
  },
  {
   "cell_type": "code",
   "execution_count": 146,
   "id": "a88d2c11-5ebd-43da-9c19-477175d40e23",
   "metadata": {},
   "outputs": [
    {
     "name": "stdout",
     "output_type": "stream",
     "text": [
      "59\n"
     ]
    }
   ],
   "source": [
    "print(c[2][3][4]) # third array, fourth row and fifth column is 32"
   ]
  },
  {
   "cell_type": "code",
   "execution_count": 147,
   "id": "4b521597-a6ca-45d6-aa1c-6bf4149cadc4",
   "metadata": {},
   "outputs": [],
   "source": [
    "d = np.arange(0, 80)"
   ]
  },
  {
   "cell_type": "code",
   "execution_count": 148,
   "id": "d57041a3-8e5e-44e8-afdf-f037384372c7",
   "metadata": {},
   "outputs": [
    {
     "data": {
      "text/plain": [
       "(80,)"
      ]
     },
     "execution_count": 148,
     "metadata": {},
     "output_type": "execute_result"
    }
   ],
   "source": [
    "d.shape"
   ]
  },
  {
   "cell_type": "code",
   "execution_count": 149,
   "id": "bf251e03-abd1-474b-8961-3061e2fcfa0e",
   "metadata": {},
   "outputs": [
    {
     "data": {
      "text/plain": [
       "array([[[ 0,  1,  2,  3,  4],\n",
       "        [ 5,  6,  7,  8,  9],\n",
       "        [10, 11, 12, 13, 14],\n",
       "        [15, 16, 17, 18, 19]],\n",
       "\n",
       "       [[20, 21, 22, 23, 24],\n",
       "        [25, 26, 27, 28, 29],\n",
       "        [30, 31, 32, 33, 34],\n",
       "        [35, 36, 37, 38, 39]],\n",
       "\n",
       "       [[40, 41, 42, 43, 44],\n",
       "        [45, 46, 47, 48, 49],\n",
       "        [50, 51, 52, 53, 54],\n",
       "        [55, 56, 57, 58, 59]],\n",
       "\n",
       "       [[60, 61, 62, 63, 64],\n",
       "        [65, 66, 67, 68, 69],\n",
       "        [70, 71, 72, 73, 74],\n",
       "        [75, 76, 77, 78, 79]]])"
      ]
     },
     "execution_count": 149,
     "metadata": {},
     "output_type": "execute_result"
    }
   ],
   "source": [
    "e = d.reshape(4, 4, 5)\n",
    "e"
   ]
  },
  {
   "cell_type": "code",
   "execution_count": 150,
   "id": "134116a3-ce71-4755-a6dc-48fc4cd8ff56",
   "metadata": {},
   "outputs": [
    {
     "data": {
      "text/plain": [
       "3"
      ]
     },
     "execution_count": 150,
     "metadata": {},
     "output_type": "execute_result"
    }
   ],
   "source": [
    "e.ndim #It has 4 arrays. each array contains 4 arrays with 5 columns."
   ]
  },
  {
   "cell_type": "code",
   "execution_count": 151,
   "id": "0737b885-8e85-4cad-abaf-ef4ab09d46a9",
   "metadata": {},
   "outputs": [
    {
     "name": "stdout",
     "output_type": "stream",
     "text": [
      "77\n"
     ]
    }
   ],
   "source": [
    "# Print 77\n",
    "\n",
    "print(e[3][3][2]) # It is in 4th array, fourth row and third column"
   ]
  },
  {
   "cell_type": "code",
   "execution_count": 152,
   "id": "f1980206-a52e-4803-bb5e-474e747846bd",
   "metadata": {},
   "outputs": [
    {
     "data": {
      "text/plain": [
       "array([[1, 1],\n",
       "       [0, 1]])"
      ]
     },
     "execution_count": 152,
     "metadata": {},
     "output_type": "execute_result"
    }
   ],
   "source": [
    "## Vectorized operationy\n",
    "\n",
    "## Element wise\n",
    "\n",
    "A = np.array([[1,1], [0,1]])\n",
    "A"
   ]
  },
  {
   "cell_type": "code",
   "execution_count": null,
   "id": "8294581d-e29b-4476-a984-a5fdcbdeb592",
   "metadata": {},
   "outputs": [],
   "source": []
  },
  {
   "cell_type": "code",
   "execution_count": null,
   "id": "96f1078c-ebed-4498-9691-b15462bf2a64",
   "metadata": {},
   "outputs": [],
   "source": []
  },
  {
   "cell_type": "code",
   "execution_count": null,
   "id": "99421192-0b95-43fe-ad09-e998b4bacae6",
   "metadata": {},
   "outputs": [],
   "source": []
  },
  {
   "cell_type": "code",
   "execution_count": 153,
   "id": "69d13a8b-6671-471d-aba0-022f44393f2e",
   "metadata": {},
   "outputs": [
    {
     "data": {
      "text/plain": [
       "(2, 2)"
      ]
     },
     "execution_count": 153,
     "metadata": {},
     "output_type": "execute_result"
    }
   ],
   "source": [
    "A.shape"
   ]
  },
  {
   "cell_type": "code",
   "execution_count": 154,
   "id": "1309e5e1-3141-4951-a78e-9cc11e6bfe4c",
   "metadata": {},
   "outputs": [
    {
     "data": {
      "text/plain": [
       "2"
      ]
     },
     "execution_count": 154,
     "metadata": {},
     "output_type": "execute_result"
    }
   ],
   "source": [
    "A.ndim"
   ]
  },
  {
   "cell_type": "code",
   "execution_count": 155,
   "id": "0aab7a3d-7c44-462a-9e6d-1a1ac948af39",
   "metadata": {},
   "outputs": [
    {
     "data": {
      "text/plain": [
       "4"
      ]
     },
     "execution_count": 155,
     "metadata": {},
     "output_type": "execute_result"
    }
   ],
   "source": [
    "A.size"
   ]
  },
  {
   "cell_type": "code",
   "execution_count": 156,
   "id": "7a1a32fe-6f29-431d-a180-be90c04048e8",
   "metadata": {},
   "outputs": [],
   "source": [
    "B = np.array([[2, 0], [3, 4]])"
   ]
  },
  {
   "cell_type": "code",
   "execution_count": 157,
   "id": "feaed956-ef7f-4722-a75f-b306b70193c7",
   "metadata": {},
   "outputs": [
    {
     "data": {
      "text/plain": [
       "array([[2, 0],\n",
       "       [3, 4]])"
      ]
     },
     "execution_count": 157,
     "metadata": {},
     "output_type": "execute_result"
    }
   ],
   "source": [
    "B"
   ]
  },
  {
   "cell_type": "code",
   "execution_count": 159,
   "id": "f42f1320-6908-4806-9992-51756b124a2b",
   "metadata": {},
   "outputs": [
    {
     "data": {
      "text/plain": [
       "array([[2, 0],\n",
       "       [0, 4]])"
      ]
     },
     "execution_count": 159,
     "metadata": {},
     "output_type": "execute_result"
    }
   ],
   "source": [
    "# First, let’s use the * operation for numpy arrays:\n",
    "# Elementwise\n",
    "\n",
    "A * B"
   ]
  },
  {
   "cell_type": "code",
   "execution_count": 160,
   "id": "e68f6d43-5af1-4b1b-841e-d41a66d27815",
   "metadata": {},
   "outputs": [
    {
     "data": {
      "text/plain": [
       "array([[5, 4],\n",
       "       [3, 4]])"
      ]
     },
     "execution_count": 160,
     "metadata": {},
     "output_type": "execute_result"
    }
   ],
   "source": [
    "# We can see that this returned the element-wise product. Now, lets use the dot()\n",
    "# method:\n",
    "\n",
    "# Matrix multiplication\n",
    "\n",
    "A.dot(B)"
   ]
  },
  {
   "cell_type": "markdown",
   "id": "d7984ee7-ef34-4a2f-80f5-4d60a8d9767b",
   "metadata": {},
   "source": [
    "## Concentinating arrays\n",
    "\n",
    "default axis is zero"
   ]
  },
  {
   "cell_type": "code",
   "execution_count": 161,
   "id": "02fbe6cf-cbba-4bcb-9d12-adbafb6b4dbe",
   "metadata": {},
   "outputs": [],
   "source": [
    "a = np.array([11, 22])\n",
    "b = np.array([18, 7, 6])\n",
    "c = np.array([1, 3, 5])\n",
    "\n",
    "d = np.concatenate((a, b, c))\n"
   ]
  },
  {
   "cell_type": "code",
   "execution_count": 162,
   "id": "7d7395b6-a710-429f-a4d8-74df162c7736",
   "metadata": {},
   "outputs": [
    {
     "data": {
      "text/plain": [
       "array([11, 22, 18,  7,  6,  1,  3,  5])"
      ]
     },
     "execution_count": 162,
     "metadata": {},
     "output_type": "execute_result"
    }
   ],
   "source": [
    "d"
   ]
  },
  {
   "cell_type": "code",
   "execution_count": 163,
   "id": "21902f72-9a89-4b8d-8566-068694b73692",
   "metadata": {},
   "outputs": [
    {
     "data": {
      "text/plain": [
       "1"
      ]
     },
     "execution_count": 163,
     "metadata": {},
     "output_type": "execute_result"
    }
   ],
   "source": [
    "d.ndim"
   ]
  },
  {
   "cell_type": "code",
   "execution_count": 164,
   "id": "4057608b-2c66-4b72-bbc4-65d9b7e99ca8",
   "metadata": {},
   "outputs": [
    {
     "data": {
      "text/plain": [
       "(8,)"
      ]
     },
     "execution_count": 164,
     "metadata": {},
     "output_type": "execute_result"
    }
   ],
   "source": [
    "d.shape"
   ]
  },
  {
   "cell_type": "code",
   "execution_count": 165,
   "id": "ef697833-c553-4fb7-b82c-e64f46a28193",
   "metadata": {},
   "outputs": [
    {
     "data": {
      "text/plain": [
       "8"
      ]
     },
     "execution_count": 165,
     "metadata": {},
     "output_type": "execute_result"
    }
   ],
   "source": [
    "d.size"
   ]
  },
  {
   "cell_type": "code",
   "execution_count": 166,
   "id": "f3959bcc-8917-4350-abd8-37e7be647be8",
   "metadata": {},
   "outputs": [],
   "source": [
    "# Concatenating two dimensional arrays\n",
    "\n",
    "a = np.array([[1, 2], [3, 4]])\n",
    "b = np.array([[5, 6], [7, 8]])\n"
   ]
  },
  {
   "cell_type": "code",
   "execution_count": 167,
   "id": "7fbcf294-cbb6-4a79-b209-32947403bf72",
   "metadata": {},
   "outputs": [
    {
     "data": {
      "text/plain": [
       "array([[1, 2],\n",
       "       [3, 4]])"
      ]
     },
     "execution_count": 167,
     "metadata": {},
     "output_type": "execute_result"
    }
   ],
   "source": [
    "a"
   ]
  },
  {
   "cell_type": "code",
   "execution_count": 168,
   "id": "ed350e8f-204a-46aa-9ca6-829c6ab1da51",
   "metadata": {},
   "outputs": [
    {
     "data": {
      "text/plain": [
       "array([[5, 6],\n",
       "       [7, 8]])"
      ]
     },
     "execution_count": 168,
     "metadata": {},
     "output_type": "execute_result"
    }
   ],
   "source": [
    "b"
   ]
  },
  {
   "cell_type": "code",
   "execution_count": 169,
   "id": "b2f69ded-b4f0-44b1-9f4b-b748db37d742",
   "metadata": {},
   "outputs": [
    {
     "data": {
      "text/plain": [
       "array([[1, 2],\n",
       "       [3, 4],\n",
       "       [5, 6],\n",
       "       [7, 8]])"
      ]
     },
     "execution_count": 169,
     "metadata": {},
     "output_type": "execute_result"
    }
   ],
   "source": [
    "np.concatenate((a, b), axis = 0) # by row, Taller table, more rows but same columns number"
   ]
  },
  {
   "cell_type": "code",
   "execution_count": 170,
   "id": "973e9191-6296-40a4-98fd-fd98dc7b6ec0",
   "metadata": {},
   "outputs": [
    {
     "data": {
      "text/plain": [
       "array([[1, 2, 5, 6],\n",
       "       [3, 4, 7, 8]])"
      ]
     },
     "execution_count": 170,
     "metadata": {},
     "output_type": "execute_result"
    }
   ],
   "source": [
    "np.concatenate((a, b), axis = 1) # by column, wider table, same rows but more columns"
   ]
  },
  {
   "cell_type": "code",
   "execution_count": null,
   "id": "76bc0dc8-074a-4d44-91e2-9a670d577c81",
   "metadata": {},
   "outputs": [],
   "source": []
  }
 ],
 "metadata": {
  "kernelspec": {
   "display_name": "Python [conda env:adsml] *",
   "language": "python",
   "name": "conda-env-adsml-py"
  },
  "language_info": {
   "codemirror_mode": {
    "name": "ipython",
    "version": 3
   },
   "file_extension": ".py",
   "mimetype": "text/x-python",
   "name": "python",
   "nbconvert_exporter": "python",
   "pygments_lexer": "ipython3",
   "version": "3.9.7"
  }
 },
 "nbformat": 4,
 "nbformat_minor": 5
}
