{
 "cells": [
  {
   "cell_type": "code",
   "execution_count": 1,
   "id": "bbe66857-2fd2-4b07-ae15-d5e24e2b90c6",
   "metadata": {},
   "outputs": [],
   "source": [
    "import numpy as np"
   ]
  },
  {
   "cell_type": "code",
   "execution_count": 3,
   "id": "2429c130-6157-48f0-bcc0-af85034cf81b",
   "metadata": {},
   "outputs": [
    {
     "data": {
      "text/plain": [
       "array([1, 2, 3])"
      ]
     },
     "execution_count": 3,
     "metadata": {},
     "output_type": "execute_result"
    }
   ],
   "source": [
    "a1 = np.array([1, 2, 3])\n",
    "a1"
   ]
  },
  {
   "cell_type": "code",
   "execution_count": 4,
   "id": "a310cac7-b3ab-4a59-8f4a-3e7145ac0dce",
   "metadata": {},
   "outputs": [
    {
     "data": {
      "text/plain": [
       "1"
      ]
     },
     "execution_count": 4,
     "metadata": {},
     "output_type": "execute_result"
    }
   ],
   "source": [
    "# To check the demention of the array - ndim\n",
    "a1.ndim"
   ]
  },
  {
   "cell_type": "code",
   "execution_count": 5,
   "id": "2456772f-95f3-41c1-b0c0-cc568445738a",
   "metadata": {},
   "outputs": [
    {
     "data": {
      "text/plain": [
       "(3,)"
      ]
     },
     "execution_count": 5,
     "metadata": {},
     "output_type": "execute_result"
    }
   ],
   "source": [
    "# Length of each dimentsion - shape\n",
    "\n",
    "a1.shape"
   ]
  },
  {
   "cell_type": "code",
   "execution_count": 8,
   "id": "2bd233c3-7b88-4082-bd6e-4c565cf89f45",
   "metadata": {},
   "outputs": [
    {
     "data": {
      "text/plain": [
       "array([[1, 2, 3],\n",
       "       [3, 4, 5]])"
      ]
     },
     "execution_count": 8,
     "metadata": {},
     "output_type": "execute_result"
    }
   ],
   "source": [
    "# Two dimensional array is created by passing the list of lists as follow.\n",
    "\n",
    "a2 = np.array([[1, 2, 3], [3, 4, 5]])\n",
    "a2"
   ]
  },
  {
   "cell_type": "code",
   "execution_count": 9,
   "id": "0242f423-c972-4945-b9cc-def84ad8537c",
   "metadata": {},
   "outputs": [
    {
     "data": {
      "text/plain": [
       "2"
      ]
     },
     "execution_count": 9,
     "metadata": {},
     "output_type": "execute_result"
    }
   ],
   "source": [
    "a2.ndim # Two dimensional array "
   ]
  },
  {
   "cell_type": "code",
   "execution_count": 10,
   "id": "d38fc436-81bc-4c64-9fce-0323918c18db",
   "metadata": {},
   "outputs": [
    {
     "data": {
      "text/plain": [
       "(2, 3)"
      ]
     },
     "execution_count": 10,
     "metadata": {},
     "output_type": "execute_result"
    }
   ],
   "source": [
    "# Two dimensional arrays and the length of inner lists\n",
    "# Two rows and three columns\n",
    "# axis 0 is down direction (axis=0)\n",
    "# axis 1 is cross direction (axis=1)\n",
    "\n",
    "\n",
    "a2.shape "
   ]
  },
  {
   "cell_type": "code",
   "execution_count": 11,
   "id": "d3f6308f-0844-4623-b89b-6233c64c56ac",
   "metadata": {},
   "outputs": [
    {
     "data": {
      "text/plain": [
       "array([1. , 2. , 3.3])"
      ]
     },
     "execution_count": 11,
     "metadata": {},
     "output_type": "execute_result"
    }
   ],
   "source": [
    "a3 = np.array([1, 2, 3.3])\n",
    "a3"
   ]
  },
  {
   "cell_type": "code",
   "execution_count": 12,
   "id": "c08ec7f5-0c20-4e1d-95c9-446890727998",
   "metadata": {},
   "outputs": [
    {
     "data": {
      "text/plain": [
       "dtype('float64')"
      ]
     },
     "execution_count": 12,
     "metadata": {},
     "output_type": "execute_result"
    }
   ],
   "source": [
    "a3.dtype"
   ]
  },
  {
   "cell_type": "code",
   "execution_count": 14,
   "id": "dfb21d97-0bc5-46cb-8483-b02c102485c1",
   "metadata": {},
   "outputs": [
    {
     "data": {
      "text/plain": [
       "array([1, 2, 3])"
      ]
     },
     "execution_count": 14,
     "metadata": {},
     "output_type": "execute_result"
    }
   ],
   "source": [
    "a3 = np.array([1, 2, 3.3], dtype=int)\n",
    "a3"
   ]
  },
  {
   "cell_type": "code",
   "execution_count": 17,
   "id": "0d4ea838-1ced-418b-b434-c6c69f93570c",
   "metadata": {},
   "outputs": [
    {
     "data": {
      "text/plain": [
       "(3, 5)"
      ]
     },
     "execution_count": 17,
     "metadata": {},
     "output_type": "execute_result"
    }
   ],
   "source": [
    "a4 = np.array([[\"f\", \"l\", \"a\", \"k\", \"e\"], [\"s\", \"n\", \"a\", \"k\", \"e\"], [\"a\", \"w\", \"a\", \"k\", \"e\"]])\n",
    "a4.shape"
   ]
  },
  {
   "cell_type": "code",
   "execution_count": 18,
   "id": "d4a3c401-30f2-472c-8a29-1c087c9d1609",
   "metadata": {},
   "outputs": [
    {
     "data": {
      "text/plain": [
       "15"
      ]
     },
     "execution_count": 18,
     "metadata": {},
     "output_type": "execute_result"
    }
   ],
   "source": [
    "# Total elements in the array\n",
    "\n",
    "a4.size"
   ]
  },
  {
   "cell_type": "code",
   "execution_count": 20,
   "id": "3028d34a-b062-476f-8db2-5b7b8e070e81",
   "metadata": {},
   "outputs": [
    {
     "data": {
      "text/plain": [
       "array([ 0,  1,  2,  3,  4,  5,  6,  7,  8,  9, 10, 11, 12, 13, 14])"
      ]
     },
     "execution_count": 20,
     "metadata": {},
     "output_type": "execute_result"
    }
   ],
   "source": [
    "# Creating array with arrange()\n",
    "\n",
    "np.arange(0, 15) # Lower bound 0 is included but upper bound 15 is excluded."
   ]
  },
  {
   "cell_type": "code",
   "execution_count": 21,
   "id": "8644ea2a-3ff3-43c8-8891-31400f693aef",
   "metadata": {},
   "outputs": [
    {
     "data": {
      "text/plain": [
       "array([ 0,  2,  4,  6,  8, 10, 12, 14])"
      ]
     },
     "execution_count": 21,
     "metadata": {},
     "output_type": "execute_result"
    }
   ],
   "source": [
    "# Create arrays in step\n",
    "# Even number arrays\n",
    "\n",
    "np.arange(0, 15, 2)"
   ]
  },
  {
   "cell_type": "code",
   "execution_count": 22,
   "id": "aa9e3482-2d06-4664-8312-9b367b98b551",
   "metadata": {},
   "outputs": [
    {
     "data": {
      "text/plain": [
       "array([ 1,  3,  5,  7,  9, 11, 13])"
      ]
     },
     "execution_count": 22,
     "metadata": {},
     "output_type": "execute_result"
    }
   ],
   "source": [
    "# Create arrays in step\n",
    "# Odd number arrays\n",
    "\n",
    "np.arange(1, 15, 2)"
   ]
  },
  {
   "cell_type": "code",
   "execution_count": 23,
   "id": "b969df6f-a404-4c96-bb2f-c101dce89695",
   "metadata": {},
   "outputs": [
    {
     "data": {
      "text/plain": [
       "array([  0.,  50., 100.])"
      ]
     },
     "execution_count": 23,
     "metadata": {},
     "output_type": "execute_result"
    }
   ],
   "source": [
    "# Creating sequance of real numbers between start and End Point\n",
    "# np.linespace()\n",
    "# We specify the number of points\n",
    "\n",
    "np.linspace(0, 100, 3) # 3 points within 0 to 100\n"
   ]
  },
  {
   "cell_type": "code",
   "execution_count": 24,
   "id": "15aee0eb-95dd-4671-902c-a58f26cd4d47",
   "metadata": {},
   "outputs": [
    {
     "data": {
      "text/plain": [
       "array([ 0.        , 33.33333333, 66.66666667])"
      ]
     },
     "execution_count": 24,
     "metadata": {},
     "output_type": "execute_result"
    }
   ],
   "source": [
    "# Creating without end point\n",
    "\n",
    "np.linspace(0, 100, 3, endpoint = False)"
   ]
  },
  {
   "cell_type": "code",
   "execution_count": 36,
   "id": "47066a1b-3847-4827-9090-4ac60f437b85",
   "metadata": {},
   "outputs": [
    {
     "data": {
      "text/plain": [
       "array([[1],\n",
       "       [2],\n",
       "       [3],\n",
       "       [4]])"
      ]
     },
     "execution_count": 36,
     "metadata": {},
     "output_type": "execute_result"
    }
   ],
   "source": [
    "### Exercise\n",
    "\n",
    "np.array([[1],[2],[3],[4]]) # 4 rows and 1 column"
   ]
  },
  {
   "cell_type": "code",
   "execution_count": 37,
   "id": "b8a46832-c6b9-4dd3-be61-299b6ef00750",
   "metadata": {},
   "outputs": [
    {
     "data": {
      "text/plain": [
       "(4, 1)"
      ]
     },
     "execution_count": 37,
     "metadata": {},
     "output_type": "execute_result"
    }
   ],
   "source": [
    "np.array([[1],[2],[3],[4]]).shape"
   ]
  },
  {
   "cell_type": "code",
   "execution_count": 38,
   "id": "2a0259a1-55ff-4bf7-9a7e-642b2773a16f",
   "metadata": {},
   "outputs": [
    {
     "data": {
      "text/plain": [
       "2"
      ]
     },
     "execution_count": 38,
     "metadata": {},
     "output_type": "execute_result"
    }
   ],
   "source": [
    "np.array([[1],[2],[3],[4]]).ndim"
   ]
  },
  {
   "cell_type": "code",
   "execution_count": 29,
   "id": "932e519a-f1d1-47de-98c9-6275c16de2c8",
   "metadata": {},
   "outputs": [
    {
     "data": {
      "text/plain": [
       "(2,)"
      ]
     },
     "execution_count": 29,
     "metadata": {},
     "output_type": "execute_result"
    }
   ],
   "source": [
    "np.array([1,3]).shape"
   ]
  },
  {
   "cell_type": "code",
   "execution_count": 30,
   "id": "f5714e07-8ff2-4a1b-a33f-1b890b3bff7a",
   "metadata": {},
   "outputs": [
    {
     "data": {
      "text/plain": [
       "1"
      ]
     },
     "execution_count": 30,
     "metadata": {},
     "output_type": "execute_result"
    }
   ],
   "source": [
    "np.array([1,3]).ndim"
   ]
  },
  {
   "cell_type": "code",
   "execution_count": 31,
   "id": "01e82f94-376d-4a39-ab8d-621de0c9b0e8",
   "metadata": {},
   "outputs": [
    {
     "data": {
      "text/plain": [
       "(2, 1)"
      ]
     },
     "execution_count": 31,
     "metadata": {},
     "output_type": "execute_result"
    }
   ],
   "source": [
    "np.array([[1],[3]]).shape"
   ]
  },
  {
   "cell_type": "code",
   "execution_count": 32,
   "id": "0e59e2a9-431c-4d7f-83c5-4c91045fa70a",
   "metadata": {},
   "outputs": [
    {
     "data": {
      "text/plain": [
       "2"
      ]
     },
     "execution_count": 32,
     "metadata": {},
     "output_type": "execute_result"
    }
   ],
   "source": [
    "np.array([[1],[3]]).ndim"
   ]
  },
  {
   "cell_type": "code",
   "execution_count": 33,
   "id": "3d11a5cf-192e-4f30-8d87-a28df81bb814",
   "metadata": {},
   "outputs": [
    {
     "data": {
      "text/plain": [
       "2"
      ]
     },
     "execution_count": 33,
     "metadata": {},
     "output_type": "execute_result"
    }
   ],
   "source": [
    "np.array([[1],[3]]).size"
   ]
  },
  {
   "cell_type": "code",
   "execution_count": 34,
   "id": "19679ae2-cd5f-4465-a270-68f7033212a8",
   "metadata": {},
   "outputs": [
    {
     "data": {
      "text/plain": [
       "array(['1', '2', '3'], dtype='<U21')"
      ]
     },
     "execution_count": 34,
     "metadata": {},
     "output_type": "execute_result"
    }
   ],
   "source": [
    "np.array([1,'2',3])"
   ]
  },
  {
   "cell_type": "code",
   "execution_count": 35,
   "id": "88f24495-20f7-4461-9c1a-9634d1f37423",
   "metadata": {},
   "outputs": [
    {
     "data": {
      "text/plain": [
       "dtype('<U21')"
      ]
     },
     "execution_count": 35,
     "metadata": {},
     "output_type": "execute_result"
    }
   ],
   "source": [
    "np.array([1,'2',3]).dtype"
   ]
  },
  {
   "cell_type": "code",
   "execution_count": null,
   "id": "3010edb5-6b48-479c-a961-97f1f89a7b55",
   "metadata": {},
   "outputs": [],
   "source": []
  }
 ],
 "metadata": {
  "kernelspec": {
   "display_name": "Python [conda env:adsml] *",
   "language": "python",
   "name": "conda-env-adsml-py"
  },
  "language_info": {
   "codemirror_mode": {
    "name": "ipython",
    "version": 3
   },
   "file_extension": ".py",
   "mimetype": "text/x-python",
   "name": "python",
   "nbconvert_exporter": "python",
   "pygments_lexer": "ipython3",
   "version": "3.9.7"
  }
 },
 "nbformat": 4,
 "nbformat_minor": 5
}
