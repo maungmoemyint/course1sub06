{
 "cells": [
  {
   "cell_type": "code",
   "execution_count": 1,
   "id": "bbe66857-2fd2-4b07-ae15-d5e24e2b90c6",
   "metadata": {},
   "outputs": [],
   "source": [
    "import numpy as np"
   ]
  },
  {
   "cell_type": "code",
   "execution_count": 2,
   "id": "2429c130-6157-48f0-bcc0-af85034cf81b",
   "metadata": {},
   "outputs": [
    {
     "data": {
      "text/plain": [
       "array([1, 2, 3])"
      ]
     },
     "execution_count": 2,
     "metadata": {},
     "output_type": "execute_result"
    }
   ],
   "source": [
    "a1 = np.array([1, 2, 3])\n",
    "a1"
   ]
  },
  {
   "cell_type": "code",
   "execution_count": 3,
   "id": "a310cac7-b3ab-4a59-8f4a-3e7145ac0dce",
   "metadata": {},
   "outputs": [
    {
     "data": {
      "text/plain": [
       "1"
      ]
     },
     "execution_count": 3,
     "metadata": {},
     "output_type": "execute_result"
    }
   ],
   "source": [
    "# To check the demention of the array - ndim\n",
    "a1.ndim"
   ]
  },
  {
   "cell_type": "code",
   "execution_count": 5,
   "id": "2456772f-95f3-41c1-b0c0-cc568445738a",
   "metadata": {},
   "outputs": [
    {
     "data": {
      "text/plain": [
       "(3,)"
      ]
     },
     "execution_count": 5,
     "metadata": {},
     "output_type": "execute_result"
    }
   ],
   "source": [
    "# Length of each dimentsion - shape\n",
    "\n",
    "a1.shape"
   ]
  },
  {
   "cell_type": "code",
   "execution_count": 11,
   "id": "2bd94906-791e-496d-a1e0-6202d09e8a75",
   "metadata": {},
   "outputs": [
    {
     "data": {
      "text/plain": [
       "array([10, 20, 30])"
      ]
     },
     "execution_count": 11,
     "metadata": {},
     "output_type": "execute_result"
    }
   ],
   "source": [
    "b1 = np.array([10, 20, 30])\n",
    "b1"
   ]
  },
  {
   "cell_type": "code",
   "execution_count": 8,
   "id": "43ea17e8-ed9e-4b5d-bae5-45a734ca8268",
   "metadata": {},
   "outputs": [
    {
     "data": {
      "text/plain": [
       "1"
      ]
     },
     "execution_count": 8,
     "metadata": {},
     "output_type": "execute_result"
    }
   ],
   "source": [
    "b1.ndim"
   ]
  },
  {
   "cell_type": "code",
   "execution_count": 9,
   "id": "5c9cce5d-5119-473c-87e2-48b0896481ff",
   "metadata": {},
   "outputs": [
    {
     "data": {
      "text/plain": [
       "(3,)"
      ]
     },
     "execution_count": 9,
     "metadata": {},
     "output_type": "execute_result"
    }
   ],
   "source": [
    "b1.shape"
   ]
  },
  {
   "cell_type": "code",
   "execution_count": 12,
   "id": "11225ba3-4184-4c68-810f-1537d7e4f095",
   "metadata": {},
   "outputs": [
    {
     "data": {
      "text/plain": [
       "array([30, 40, 50])"
      ]
     },
     "execution_count": 12,
     "metadata": {},
     "output_type": "execute_result"
    }
   ],
   "source": [
    "b2 = np.array([30, 40, 50])\n",
    "b2"
   ]
  },
  {
   "cell_type": "code",
   "execution_count": 13,
   "id": "6bba981e-1ecf-47f0-922c-3d23a51bb944",
   "metadata": {},
   "outputs": [
    {
     "data": {
      "text/plain": [
       "1"
      ]
     },
     "execution_count": 13,
     "metadata": {},
     "output_type": "execute_result"
    }
   ],
   "source": [
    "b2.ndim"
   ]
  },
  {
   "cell_type": "code",
   "execution_count": 14,
   "id": "488bff6b-e0e1-4153-a5ff-9cfaac4f5c17",
   "metadata": {},
   "outputs": [
    {
     "data": {
      "text/plain": [
       "(3,)"
      ]
     },
     "execution_count": 14,
     "metadata": {},
     "output_type": "execute_result"
    }
   ],
   "source": [
    "b2.shape"
   ]
  },
  {
   "cell_type": "code",
   "execution_count": 16,
   "id": "0f912dc9-26bd-4799-afb8-a7e7c44b93c3",
   "metadata": {},
   "outputs": [
    {
     "data": {
      "text/plain": [
       "array([[10, 20, 30],\n",
       "       [30, 40, 50]])"
      ]
     },
     "execution_count": 16,
     "metadata": {},
     "output_type": "execute_result"
    }
   ],
   "source": [
    "b3 = np.array([b1, b2])\n",
    "b3"
   ]
  },
  {
   "cell_type": "code",
   "execution_count": 17,
   "id": "2fc6d638-e571-471f-9ef6-b7f0925ae9e7",
   "metadata": {},
   "outputs": [
    {
     "data": {
      "text/plain": [
       "2"
      ]
     },
     "execution_count": 17,
     "metadata": {},
     "output_type": "execute_result"
    }
   ],
   "source": [
    "b3.ndim"
   ]
  },
  {
   "cell_type": "code",
   "execution_count": 18,
   "id": "058b3a75-a0dd-43a5-b1b7-16faca84182a",
   "metadata": {},
   "outputs": [
    {
     "data": {
      "text/plain": [
       "(2, 3)"
      ]
     },
     "execution_count": 18,
     "metadata": {},
     "output_type": "execute_result"
    }
   ],
   "source": [
    "b3.shape"
   ]
  },
  {
   "cell_type": "code",
   "execution_count": 22,
   "id": "2014786a-4ca7-47fd-8dc8-17c87159abae",
   "metadata": {},
   "outputs": [
    {
     "data": {
      "text/plain": [
       "6"
      ]
     },
     "execution_count": 22,
     "metadata": {},
     "output_type": "execute_result"
    }
   ],
   "source": [
    "b3.size"
   ]
  },
  {
   "cell_type": "code",
   "execution_count": 23,
   "id": "5e6b86db-c7bb-4188-a130-b24b48b11337",
   "metadata": {},
   "outputs": [
    {
     "data": {
      "text/plain": [
       "dtype('int64')"
      ]
     },
     "execution_count": 23,
     "metadata": {},
     "output_type": "execute_result"
    }
   ],
   "source": [
    "b3.dtype"
   ]
  },
  {
   "cell_type": "code",
   "execution_count": 19,
   "id": "2bd233c3-7b88-4082-bd6e-4c565cf89f45",
   "metadata": {},
   "outputs": [
    {
     "data": {
      "text/plain": [
       "array([[1, 2, 3],\n",
       "       [3, 4, 5]])"
      ]
     },
     "execution_count": 19,
     "metadata": {},
     "output_type": "execute_result"
    }
   ],
   "source": [
    "# Two dimensional array is created by passing the list of lists as follow.\n",
    "\n",
    "a2 = np.array([[1, 2, 3], [3, 4, 5]])\n",
    "a2"
   ]
  },
  {
   "cell_type": "code",
   "execution_count": 20,
   "id": "0242f423-c972-4945-b9cc-def84ad8537c",
   "metadata": {},
   "outputs": [
    {
     "data": {
      "text/plain": [
       "2"
      ]
     },
     "execution_count": 20,
     "metadata": {},
     "output_type": "execute_result"
    }
   ],
   "source": [
    "a2.ndim # Two dimensional array "
   ]
  },
  {
   "cell_type": "code",
   "execution_count": 21,
   "id": "d38fc436-81bc-4c64-9fce-0323918c18db",
   "metadata": {},
   "outputs": [
    {
     "data": {
      "text/plain": [
       "(2, 3)"
      ]
     },
     "execution_count": 21,
     "metadata": {},
     "output_type": "execute_result"
    }
   ],
   "source": [
    "# Two dimensional arrays and the length of inner lists\n",
    "# Two rows and three columns\n",
    "# axis 0 is down direction (axis=0)\n",
    "# axis 1 is cross direction (axis=1)\n",
    "\n",
    "\n",
    "a2.shape "
   ]
  },
  {
   "cell_type": "code",
   "execution_count": null,
   "id": "d3f6308f-0844-4623-b89b-6233c64c56ac",
   "metadata": {},
   "outputs": [],
   "source": [
    "a3 = np.array([1, 2, 3.3])\n",
    "a3"
   ]
  },
  {
   "cell_type": "code",
   "execution_count": null,
   "id": "c08ec7f5-0c20-4e1d-95c9-446890727998",
   "metadata": {},
   "outputs": [],
   "source": [
    "a3.dtype"
   ]
  },
  {
   "cell_type": "code",
   "execution_count": null,
   "id": "dfb21d97-0bc5-46cb-8483-b02c102485c1",
   "metadata": {},
   "outputs": [],
   "source": [
    "a3 = np.array([1, 2, 3.3], dtype=int)\n",
    "a3"
   ]
  },
  {
   "cell_type": "code",
   "execution_count": null,
   "id": "0d4ea838-1ced-418b-b434-c6c69f93570c",
   "metadata": {},
   "outputs": [],
   "source": [
    "a4 = np.array([[\"f\", \"l\", \"a\", \"k\", \"e\"], [\"s\", \"n\", \"a\", \"k\", \"e\"], [\"a\", \"w\", \"a\", \"k\", \"e\"]])\n",
    "a4.shape"
   ]
  },
  {
   "cell_type": "code",
   "execution_count": null,
   "id": "d4a3c401-30f2-472c-8a29-1c087c9d1609",
   "metadata": {},
   "outputs": [],
   "source": [
    "# Total elements in the array\n",
    "\n",
    "a4.size"
   ]
  },
  {
   "cell_type": "code",
   "execution_count": null,
   "id": "3028d34a-b062-476f-8db2-5b7b8e070e81",
   "metadata": {},
   "outputs": [],
   "source": [
    "# Creating array with arrange()\n",
    "\n",
    "np.arange(0, 15) # Lower bound 0 is included but upper bound 15 is excluded."
   ]
  },
  {
   "cell_type": "code",
   "execution_count": null,
   "id": "8644ea2a-3ff3-43c8-8891-31400f693aef",
   "metadata": {},
   "outputs": [],
   "source": [
    "# Create arrays in step\n",
    "# Even number arrays\n",
    "\n",
    "np.arange(0, 15, 2)"
   ]
  },
  {
   "cell_type": "code",
   "execution_count": null,
   "id": "aa9e3482-2d06-4664-8312-9b367b98b551",
   "metadata": {},
   "outputs": [],
   "source": [
    "# Create arrays in step\n",
    "# Odd number arrays\n",
    "\n",
    "np.arange(1, 15, 2)"
   ]
  },
  {
   "cell_type": "code",
   "execution_count": null,
   "id": "b969df6f-a404-4c96-bb2f-c101dce89695",
   "metadata": {},
   "outputs": [],
   "source": [
    "# Creating sequance of real numbers between start and End Point\n",
    "# np.linespace()\n",
    "# We specify the number of points\n",
    "\n",
    "np.linspace(0, 100, 3) # 3 points within 0 to 100\n"
   ]
  },
  {
   "cell_type": "code",
   "execution_count": null,
   "id": "15aee0eb-95dd-4671-902c-a58f26cd4d47",
   "metadata": {},
   "outputs": [],
   "source": [
    "# Creating without end point\n",
    "\n",
    "np.linspace(0, 100, 3, endpoint = False)"
   ]
  },
  {
   "cell_type": "code",
   "execution_count": null,
   "id": "47066a1b-3847-4827-9090-4ac60f437b85",
   "metadata": {},
   "outputs": [],
   "source": [
    "### Exercise\n",
    "\n",
    "np.array([[1],[2],[3],[4]]) # 4 rows and 1 column"
   ]
  },
  {
   "cell_type": "code",
   "execution_count": null,
   "id": "b8a46832-c6b9-4dd3-be61-299b6ef00750",
   "metadata": {},
   "outputs": [],
   "source": [
    "np.array([[1],[2],[3],[4]]).shape"
   ]
  },
  {
   "cell_type": "code",
   "execution_count": null,
   "id": "2a0259a1-55ff-4bf7-9a7e-642b2773a16f",
   "metadata": {},
   "outputs": [],
   "source": [
    "np.array([[1],[2],[3],[4]]).ndim"
   ]
  },
  {
   "cell_type": "code",
   "execution_count": null,
   "id": "932e519a-f1d1-47de-98c9-6275c16de2c8",
   "metadata": {},
   "outputs": [],
   "source": [
    "np.array([1,3]).shape"
   ]
  },
  {
   "cell_type": "code",
   "execution_count": null,
   "id": "f5714e07-8ff2-4a1b-a33f-1b890b3bff7a",
   "metadata": {},
   "outputs": [],
   "source": [
    "np.array([1,3]).ndim"
   ]
  },
  {
   "cell_type": "code",
   "execution_count": null,
   "id": "01e82f94-376d-4a39-ab8d-621de0c9b0e8",
   "metadata": {},
   "outputs": [],
   "source": [
    "np.array([[1],[3]]).shape"
   ]
  },
  {
   "cell_type": "code",
   "execution_count": null,
   "id": "0e59e2a9-431c-4d7f-83c5-4c91045fa70a",
   "metadata": {},
   "outputs": [],
   "source": [
    "np.array([[1],[3]]).ndim"
   ]
  },
  {
   "cell_type": "code",
   "execution_count": null,
   "id": "3d11a5cf-192e-4f30-8d87-a28df81bb814",
   "metadata": {},
   "outputs": [],
   "source": [
    "np.array([[1],[3]]).size"
   ]
  },
  {
   "cell_type": "code",
   "execution_count": null,
   "id": "19679ae2-cd5f-4465-a270-68f7033212a8",
   "metadata": {},
   "outputs": [],
   "source": [
    "np.array([1,'2',3])"
   ]
  },
  {
   "cell_type": "code",
   "execution_count": null,
   "id": "88f24495-20f7-4461-9c1a-9634d1f37423",
   "metadata": {},
   "outputs": [],
   "source": [
    "np.array([1,'2',3]).dtype"
   ]
  },
  {
   "cell_type": "markdown",
   "id": "b6d1667a-9038-43aa-8c59-a3ebed7962cb",
   "metadata": {},
   "source": [
    "## Basic Operations with Arrays\n",
    "\n",
    "We saw how with the arange() function, we can create an array and specify the range of\n",
    "numbers that it will contain. Used by itself, this function creates a one-dimensional\n",
    "array. However, in combination with the reshape() function, we can create an array of\n",
    "any shape we want.\n",
    "\n",
    "New array is created. Original arrays are not modified."
   ]
  },
  {
   "cell_type": "code",
   "execution_count": 54,
   "id": "8d870452-3453-43ed-921f-a58131936224",
   "metadata": {},
   "outputs": [
    {
     "data": {
      "text/plain": [
       "array([ 0,  1,  2,  3,  4,  5,  6,  7,  8,  9, 10, 11])"
      ]
     },
     "execution_count": 54,
     "metadata": {},
     "output_type": "execute_result"
    }
   ],
   "source": [
    "a = np.arange(0, 12)\n",
    "a"
   ]
  },
  {
   "cell_type": "code",
   "execution_count": 56,
   "id": "084d5bdd-4791-4c77-86fc-d60d8d10ce34",
   "metadata": {},
   "outputs": [
    {
     "data": {
      "text/plain": [
       "12"
      ]
     },
     "execution_count": 56,
     "metadata": {},
     "output_type": "execute_result"
    }
   ],
   "source": [
    "a.size"
   ]
  },
  {
   "cell_type": "code",
   "execution_count": 57,
   "id": "fbd6a4a0-dd9a-4908-a34b-bbe678650b95",
   "metadata": {},
   "outputs": [
    {
     "data": {
      "text/plain": [
       "(12,)"
      ]
     },
     "execution_count": 57,
     "metadata": {},
     "output_type": "execute_result"
    }
   ],
   "source": [
    "a.shape"
   ]
  },
  {
   "cell_type": "code",
   "execution_count": 59,
   "id": "6d3df88a-ac5c-441b-abf7-468b21649456",
   "metadata": {},
   "outputs": [
    {
     "data": {
      "text/plain": [
       "array([[ 0,  1,  2],\n",
       "       [ 3,  4,  5],\n",
       "       [ 6,  7,  8],\n",
       "       [ 9, 10, 11]])"
      ]
     },
     "execution_count": 59,
     "metadata": {},
     "output_type": "execute_result"
    }
   ],
   "source": [
    "# Transform it in to 4 rows and 3 columns two dimensional arrays\n",
    "# reshape()\n",
    "\n",
    "a.reshape(4, 3)"
   ]
  },
  {
   "cell_type": "code",
   "execution_count": null,
   "id": "5bf07a2a-015b-4ce1-a4f3-70adca78ab39",
   "metadata": {},
   "outputs": [],
   "source": []
  },
  {
   "cell_type": "code",
   "execution_count": 60,
   "id": "8a51acb2-cce0-4d89-9cb5-4ff739581c58",
   "metadata": {},
   "outputs": [
    {
     "data": {
      "text/plain": [
       "array([[[ 0,  1,  2],\n",
       "        [ 3,  4,  5]],\n",
       "\n",
       "       [[ 6,  7,  8],\n",
       "        [ 9, 10, 11]]])"
      ]
     },
     "execution_count": 60,
     "metadata": {},
     "output_type": "execute_result"
    }
   ],
   "source": [
    "# We could also obtain for example a three-dimensional array with shape (2,2,3)\n",
    "\n",
    "a.reshape(2,2,3)"
   ]
  },
  {
   "cell_type": "code",
   "execution_count": 42,
   "id": "ff9007f3-384b-43e3-9cf2-4b453dd1108d",
   "metadata": {},
   "outputs": [
    {
     "data": {
      "text/plain": [
       "array([ 0,  1,  2,  3,  4,  5,  6,  7,  8,  9, 10, 11, 12, 13, 14, 15, 16,\n",
       "       17, 18, 19, 20, 21, 22, 23, 24, 25, 26, 27, 28, 29, 30, 31, 32, 33,\n",
       "       34, 35, 36, 37, 38, 39, 40, 41, 42, 43, 44, 45, 46, 47, 48, 49, 50,\n",
       "       51, 52, 53, 54, 55, 56, 57, 58, 59])"
      ]
     },
     "execution_count": 42,
     "metadata": {},
     "output_type": "execute_result"
    }
   ],
   "source": [
    "b = np.arange(0, 60)\n",
    "b"
   ]
  },
  {
   "cell_type": "code",
   "execution_count": 43,
   "id": "0bc197a1-83e9-40f9-8f7c-4faefe7ccd47",
   "metadata": {},
   "outputs": [
    {
     "data": {
      "text/plain": [
       "60"
      ]
     },
     "execution_count": 43,
     "metadata": {},
     "output_type": "execute_result"
    }
   ],
   "source": [
    "b.size"
   ]
  },
  {
   "cell_type": "code",
   "execution_count": 69,
   "id": "d20bdf2e-8d99-4166-9219-d50ece1b933a",
   "metadata": {},
   "outputs": [
    {
     "data": {
      "text/plain": [
       "1"
      ]
     },
     "execution_count": 69,
     "metadata": {},
     "output_type": "execute_result"
    }
   ],
   "source": [
    "b.ndim"
   ]
  },
  {
   "cell_type": "code",
   "execution_count": 70,
   "id": "0f44d3e3-f2f6-4e2f-8dc3-2f65e11a284d",
   "metadata": {},
   "outputs": [],
   "source": [
    "c = b.reshape(3, 4, 5) # (Dimension, Row and Column format)"
   ]
  },
  {
   "cell_type": "code",
   "execution_count": 71,
   "id": "f44b1cc7-fbc0-49bd-ae5a-c70ad08f1b02",
   "metadata": {},
   "outputs": [
    {
     "data": {
      "text/plain": [
       "3"
      ]
     },
     "execution_count": 71,
     "metadata": {},
     "output_type": "execute_result"
    }
   ],
   "source": [
    "c.ndim"
   ]
  },
  {
   "cell_type": "code",
   "execution_count": 72,
   "id": "b8fa587e-2f01-45a7-a491-142b8767b14e",
   "metadata": {},
   "outputs": [
    {
     "data": {
      "text/plain": [
       "(3, 4, 5)"
      ]
     },
     "execution_count": 72,
     "metadata": {},
     "output_type": "execute_result"
    }
   ],
   "source": [
    "c.shape"
   ]
  },
  {
   "cell_type": "code",
   "execution_count": 73,
   "id": "4b521597-a6ca-45d6-aa1c-6bf4149cadc4",
   "metadata": {},
   "outputs": [],
   "source": [
    "d = np.arange(0, 80)"
   ]
  },
  {
   "cell_type": "code",
   "execution_count": 74,
   "id": "d57041a3-8e5e-44e8-afdf-f037384372c7",
   "metadata": {},
   "outputs": [
    {
     "data": {
      "text/plain": [
       "(80,)"
      ]
     },
     "execution_count": 74,
     "metadata": {},
     "output_type": "execute_result"
    }
   ],
   "source": [
    "d.shape"
   ]
  },
  {
   "cell_type": "code",
   "execution_count": 80,
   "id": "bf251e03-abd1-474b-8961-3061e2fcfa0e",
   "metadata": {},
   "outputs": [
    {
     "data": {
      "text/plain": [
       "array([[[ 0,  1,  2,  3,  4],\n",
       "        [ 5,  6,  7,  8,  9],\n",
       "        [10, 11, 12, 13, 14],\n",
       "        [15, 16, 17, 18, 19]],\n",
       "\n",
       "       [[20, 21, 22, 23, 24],\n",
       "        [25, 26, 27, 28, 29],\n",
       "        [30, 31, 32, 33, 34],\n",
       "        [35, 36, 37, 38, 39]],\n",
       "\n",
       "       [[40, 41, 42, 43, 44],\n",
       "        [45, 46, 47, 48, 49],\n",
       "        [50, 51, 52, 53, 54],\n",
       "        [55, 56, 57, 58, 59]],\n",
       "\n",
       "       [[60, 61, 62, 63, 64],\n",
       "        [65, 66, 67, 68, 69],\n",
       "        [70, 71, 72, 73, 74],\n",
       "        [75, 76, 77, 78, 79]]])"
      ]
     },
     "execution_count": 80,
     "metadata": {},
     "output_type": "execute_result"
    }
   ],
   "source": [
    "e = d.reshape(4, 4, 5)\n",
    "e"
   ]
  },
  {
   "cell_type": "code",
   "execution_count": 81,
   "id": "134116a3-ce71-4755-a6dc-48fc4cd8ff56",
   "metadata": {},
   "outputs": [
    {
     "data": {
      "text/plain": [
       "3"
      ]
     },
     "execution_count": 81,
     "metadata": {},
     "output_type": "execute_result"
    }
   ],
   "source": [
    "e.ndim"
   ]
  },
  {
   "cell_type": "code",
   "execution_count": null,
   "id": "f1980206-a52e-4803-bb5e-474e747846bd",
   "metadata": {},
   "outputs": [],
   "source": [
    "## Vectorized operationy\n",
    "\n",
    "## Element wise\n",
    "\n",
    "A = np.array([[1,1], [0,1]])\n",
    "A"
   ]
  },
  {
   "cell_type": "code",
   "execution_count": null,
   "id": "8294581d-e29b-4476-a984-a5fdcbdeb592",
   "metadata": {},
   "outputs": [],
   "source": []
  },
  {
   "cell_type": "code",
   "execution_count": null,
   "id": "96f1078c-ebed-4498-9691-b15462bf2a64",
   "metadata": {},
   "outputs": [],
   "source": []
  },
  {
   "cell_type": "code",
   "execution_count": null,
   "id": "99421192-0b95-43fe-ad09-e998b4bacae6",
   "metadata": {},
   "outputs": [],
   "source": []
  },
  {
   "cell_type": "code",
   "execution_count": null,
   "id": "69d13a8b-6671-471d-aba0-022f44393f2e",
   "metadata": {},
   "outputs": [],
   "source": [
    "A.shape"
   ]
  },
  {
   "cell_type": "code",
   "execution_count": null,
   "id": "1309e5e1-3141-4951-a78e-9cc11e6bfe4c",
   "metadata": {},
   "outputs": [],
   "source": [
    "A.ndim"
   ]
  },
  {
   "cell_type": "code",
   "execution_count": null,
   "id": "0aab7a3d-7c44-462a-9e6d-1a1ac948af39",
   "metadata": {},
   "outputs": [],
   "source": [
    "A.size"
   ]
  },
  {
   "cell_type": "code",
   "execution_count": null,
   "id": "7a1a32fe-6f29-431d-a180-be90c04048e8",
   "metadata": {},
   "outputs": [],
   "source": [
    "B = np.array([[2, 0], [3, 4]])"
   ]
  },
  {
   "cell_type": "code",
   "execution_count": null,
   "id": "feaed956-ef7f-4722-a75f-b306b70193c7",
   "metadata": {},
   "outputs": [],
   "source": [
    "B"
   ]
  },
  {
   "cell_type": "code",
   "execution_count": null,
   "id": "f42f1320-6908-4806-9992-51756b124a2b",
   "metadata": {},
   "outputs": [],
   "source": [
    "# First, let’s use the * operation for numpy arrays:\n",
    "# Elementwise\n",
    "\n",
    "A * B"
   ]
  },
  {
   "cell_type": "code",
   "execution_count": null,
   "id": "e68f6d43-5af1-4b1b-841e-d41a66d27815",
   "metadata": {},
   "outputs": [],
   "source": [
    "# We can see that this returned the element-wise product. Now, lets use the dot()\n",
    "# method:\n",
    "\n",
    "# Matrix multiplication\n",
    "\n",
    "A.dot(B)"
   ]
  },
  {
   "cell_type": "markdown",
   "id": "d7984ee7-ef34-4a2f-80f5-4d60a8d9767b",
   "metadata": {},
   "source": [
    "## Concentinating arrays\n",
    "\n",
    "default axis is zero"
   ]
  },
  {
   "cell_type": "code",
   "execution_count": null,
   "id": "02fbe6cf-cbba-4bcb-9d12-adbafb6b4dbe",
   "metadata": {},
   "outputs": [],
   "source": [
    "a = np.array([11, 22])\n",
    "b = np.array([18, 7, 6])\n",
    "c = np.array([1, 3, 5])\n",
    "\n",
    "d = np.concatenate((a, b, c))\n"
   ]
  },
  {
   "cell_type": "code",
   "execution_count": null,
   "id": "7d7395b6-a710-429f-a4d8-74df162c7736",
   "metadata": {},
   "outputs": [],
   "source": [
    "d"
   ]
  },
  {
   "cell_type": "code",
   "execution_count": null,
   "id": "21902f72-9a89-4b8d-8566-068694b73692",
   "metadata": {},
   "outputs": [],
   "source": [
    "d.ndim"
   ]
  },
  {
   "cell_type": "code",
   "execution_count": null,
   "id": "4057608b-2c66-4b72-bbc4-65d9b7e99ca8",
   "metadata": {},
   "outputs": [],
   "source": [
    "d.shape"
   ]
  },
  {
   "cell_type": "code",
   "execution_count": null,
   "id": "ef697833-c553-4fb7-b82c-e64f46a28193",
   "metadata": {},
   "outputs": [],
   "source": [
    "d.size"
   ]
  },
  {
   "cell_type": "code",
   "execution_count": null,
   "id": "f3959bcc-8917-4350-abd8-37e7be647be8",
   "metadata": {},
   "outputs": [],
   "source": [
    "# Concatenating two dimensional arrays\n",
    "\n",
    "a = np.array([[1, 2], [3, 4]])\n",
    "b = np.array([[5, 6], [7, 8]])\n"
   ]
  },
  {
   "cell_type": "code",
   "execution_count": null,
   "id": "7fbcf294-cbb6-4a79-b209-32947403bf72",
   "metadata": {},
   "outputs": [],
   "source": [
    "a"
   ]
  },
  {
   "cell_type": "code",
   "execution_count": null,
   "id": "ed350e8f-204a-46aa-9ca6-829c6ab1da51",
   "metadata": {},
   "outputs": [],
   "source": [
    "b"
   ]
  },
  {
   "cell_type": "code",
   "execution_count": null,
   "id": "b2f69ded-b4f0-44b1-9f4b-b748db37d742",
   "metadata": {},
   "outputs": [],
   "source": [
    "np.concatenate((a, b), axis = 0) # by row, Taller table, more rows but same columns number"
   ]
  },
  {
   "cell_type": "code",
   "execution_count": null,
   "id": "973e9191-6296-40a4-98fd-fd98dc7b6ec0",
   "metadata": {},
   "outputs": [],
   "source": [
    "np.concatenate((a, b), axis = 1) # by column, wider table, same rows but more columns"
   ]
  },
  {
   "cell_type": "code",
   "execution_count": null,
   "id": "76bc0dc8-074a-4d44-91e2-9a670d577c81",
   "metadata": {},
   "outputs": [],
   "source": []
  }
 ],
 "metadata": {
  "kernelspec": {
   "display_name": "Python [conda env:adsml] *",
   "language": "python",
   "name": "conda-env-adsml-py"
  },
  "language_info": {
   "codemirror_mode": {
    "name": "ipython",
    "version": 3
   },
   "file_extension": ".py",
   "mimetype": "text/x-python",
   "name": "python",
   "nbconvert_exporter": "python",
   "pygments_lexer": "ipython3",
   "version": "3.9.7"
  }
 },
 "nbformat": 4,
 "nbformat_minor": 5
}
